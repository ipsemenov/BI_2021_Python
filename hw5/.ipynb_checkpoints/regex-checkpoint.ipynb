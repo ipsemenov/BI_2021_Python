{
 "cells": [
  {
   "cell_type": "code",
   "execution_count": 1,
   "metadata": {},
   "outputs": [],
   "source": [
    "import re\n",
    "import matplotlib.pyplot as plt"
   ]
  },
  {
   "cell_type": "markdown",
   "metadata": {},
   "source": [
    "#### 1. Find all ftp links and write them to **ftp** file"
   ]
  },
  {
   "cell_type": "code",
   "execution_count": 2,
   "metadata": {},
   "outputs": [],
   "source": [
    "with open('references', 'r') as f_in:\n",
    "    lines = f_in.readlines()"
   ]
  },
  {
   "cell_type": "code",
   "execution_count": 3,
   "metadata": {},
   "outputs": [],
   "source": [
    "text = ''.join(lines)\n",
    "pattern = re.compile(r'ftp\\.[^;\\t\\n]+')\n",
    "ftp_links = pattern.findall(text)"
   ]
  },
  {
   "cell_type": "code",
   "execution_count": 4,
   "metadata": {},
   "outputs": [],
   "source": [
    "with open('ftps', 'w') as f_out:\n",
    "    for ftp_link in ftp_links:\n",
    "        f_out.write(f'{ftp_link}\\n')"
   ]
  },
  {
   "cell_type": "markdown",
   "metadata": {},
   "source": [
    "#### 2. Extract all numbers from **2430 A.D.** story"
   ]
  },
  {
   "cell_type": "code",
   "execution_count": 5,
   "metadata": {},
   "outputs": [],
   "source": [
    "with open('2430AD', 'r') as f_in:\n",
    "    lines = f_in.readlines()"
   ]
  },
  {
   "cell_type": "code",
   "execution_count": 6,
   "metadata": {},
   "outputs": [
    {
     "name": "stdout",
     "output_type": "stream",
     "text": [
      "2430 1969 2430 2430 57 57 1970 3 68 35 460 2430\n"
     ]
    }
   ],
   "source": [
    "text = ''.join(lines)\n",
    "pattern = re.compile(r'[0-9]+')\n",
    "all_numbers = pattern.findall(text)\n",
    "print(*all_numbers)"
   ]
  },
  {
   "cell_type": "markdown",
   "metadata": {},
   "source": [
    "#### 3. Extract all words starting with **A** or **a**."
   ]
  },
  {
   "cell_type": "code",
   "execution_count": 7,
   "metadata": {},
   "outputs": [
    {
     "name": "stdout",
     "output_type": "stream",
     "text": [
      "and and are all and an Alvarez An adjustment along as and Alvarez and athletic and almost an and avoided and and apartment Alvarez All And at against and almost And another as about an and And at all always all and asked and and Alvarez ask as as are and always all and asking accede Alvarez amount and Alvarez and and are all and And and all Alvarez as as amount And asked All All Alvarez against against are and and abandoned all are Alvarez and and Alvarez and and and at and all and as and advances are and art and and advance and animal animal all all animal Alvarez amphibians at all and animals And and are are are adjusted are all an and and after attempt and Alvarez and animals all another already and and are All at all and all acted act And Alvarez Alvarez audible against are and and and And And and amused and and and and and and and And and and and and and and And all as and all and and animals appropriate and and and and also and after all all and all at and ASSET again and at and agree and about about ashamed and as added as and and animal above\n"
     ]
    }
   ],
   "source": [
    "pattern = re.compile(r'\\s([Aa]\\w+)\\s')\n",
    "words = pattern.findall(text)\n",
    "print(*words)"
   ]
  },
  {
   "cell_type": "markdown",
   "metadata": {},
   "source": [
    "#### 3. Extract all proposals ending with **!**"
   ]
  },
  {
   "cell_type": "code",
   "execution_count": 8,
   "metadata": {},
   "outputs": [
    {
     "name": "stdout",
     "output_type": "stream",
     "text": [
      "Yes!\n",
      "Literally!\n",
      "There was once a time!\n",
      "Centuries ago!\n",
      "Think, Cranwitz!\n",
      "If we succeed!\n"
     ]
    }
   ],
   "source": [
    "pattern = re.compile('[A-Z][^\\n.!?]+[!]')\n",
    "proposals = pattern.findall(text)\n",
    "for proposal in proposals:\n",
    "    print(proposal)"
   ]
  },
  {
   "cell_type": "markdown",
   "metadata": {},
   "source": [
    "#### 4. Draw length distribution of unique words with length more than 1 (register does not matter)"
   ]
  },
  {
   "cell_type": "code",
   "execution_count": 9,
   "metadata": {},
   "outputs": [],
   "source": [
    "pattern = re.compile('\\s([A-Za-z]+)')\n",
    "all_words = pattern.findall(text)\n",
    "all_words_capitalized = [word.lower() for word in all_words]\n",
    "unique_words= set(all_words_capitalized)\n",
    "length_ls = [len(word) for word in unique_words]"
   ]
  },
  {
   "cell_type": "code",
   "execution_count": 10,
   "metadata": {},
   "outputs": [
    {
     "data": {
      "image/png": "[encoded data removed]",
      "text/plain": [
       "<Figure size 864x720 with 1 Axes>"
      ]
     },
     "metadata": {
      "needs_background": "light"
     },
     "output_type": "display_data"
    }
   ],
   "source": [
    "plt.figure(figsize=(12, 10));\n",
    "plt.hist(length_ls, color='red', alpha=.5);\n",
    "plt.xlabel('word length', fontsize=16);\n",
    "plt.ylabel('frequency', fontsize=16);\n",
    "plt.grid();"
   ]
  }
 ],
 "metadata": {
  "kernelspec": {
   "display_name": "Python 3 (ipykernel)",
   "language": "python",
   "name": "python3"
  },
  "language_info": {
   "codemirror_mode": {
    "name": "ipython",
    "version": 3
   },
   "file_extension": ".py",
   "mimetype": "text/x-python",
   "name": "python",
   "nbconvert_exporter": "python",
   "pygments_lexer": "ipython3",
   "version": "3.7.6"
  }
 },
 "nbformat": 4,
 "nbformat_minor": 4
}
