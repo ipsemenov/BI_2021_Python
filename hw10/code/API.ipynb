{
 "cells": [
  {
   "cell_type": "markdown",
   "metadata": {
    "ExecuteTime": {
     "end_time": "2022-03-28T18:35:57.570795Z",
     "start_time": "2022-03-28T18:35:57.549953Z"
    }
   },
   "source": [
    "# API for GENSCAN"
   ]
  },
  {
   "cell_type": "markdown",
   "metadata": {},
   "source": [
    "[GENSCAN](http://hollywood.mit.edu/GENSCAN.html) identifies complete exon/intron structures of genes in genomic DNA. Novel features of the program include the capacity to predict multiple genes in a sequence, to deal with partial as well as complete genes, and to predict consistent sets of genes occurring on either or both DNA strands. GENSCAN is shown to have substantially higher accuracy than existing methods when tested on standardized sets of human and vertebrate genes, with 75 to 80% of exons identified exactly. The program is also capable of indicating fairly accurately the reliability of each predicted exon"
   ]
  },
  {
   "cell_type": "markdown",
   "metadata": {},
   "source": [
    "**Task:** Here we will write API for GENSCAN Online Version."
   ]
  },
  {
   "cell_type": "markdown",
   "metadata": {},
   "source": [
    "**Input data:** \n",
    "* `neurofibromin.fa` contains neurofibromin 1 nucleotide sequence.<br>\n",
    "NF1 spans over 350-kb of genomic DNA and contains 62 exons.\n",
    "* `insulin.fa` contains insulin gene nulceotide sequence.<br>\n",
    "The human insulin gene (INS) is a small gene located on chromosome 11 and is composed of 3 exons separated by two introns.\n",
    "* `nlrp3.fa` encodes a pyrin-like protein containing a pyrin domain, a nucleotide-binding site (NBS) domain, and a leucine-rich repeat (LRR) motif.<br>\n",
    "NLRP3 maps on chromosome 1 and consists of 3108 nucleotides."
   ]
  },
  {
   "cell_type": "markdown",
   "metadata": {},
   "source": [
    "## Libraries"
   ]
  },
  {
   "cell_type": "code",
   "execution_count": 1,
   "metadata": {
    "ExecuteTime": {
     "end_time": "2022-03-29T20:02:39.539898Z",
     "start_time": "2022-03-29T20:02:39.435384Z"
    }
   },
   "outputs": [],
   "source": [
    "import re\n",
    "\n",
    "import requests\n",
    "from IPython.display import HTML"
   ]
  },
  {
   "cell_type": "markdown",
   "metadata": {},
   "source": [
    "## Functions"
   ]
  },
  {
   "cell_type": "code",
   "execution_count": 2,
   "metadata": {
    "ExecuteTime": {
     "end_time": "2022-03-29T20:02:39.553333Z",
     "start_time": "2022-03-29T20:02:39.541855Z"
    }
   },
   "outputs": [],
   "source": [
    "class GenscanOutput:\n",
    "\n",
    "    def __init__(self, status, cds_list, intron_list, exon_list, resp):\n",
    "        '''\n",
    "        :param status: status of response (200 - if it was successful)\n",
    "        :param cds_list: list with predicted protein sequences after splicing\n",
    "        :param intron_list: list of introns coordinates\n",
    "        :param exon_list: list of exons coordinates\n",
    "        :param resp: response from the site (after implementation of requests.get() function)\n",
    "        '''\n",
    "        \n",
    "        self.status = status\n",
    "        self.intron_list = intron_list\n",
    "        self.exon_list = exon_list\n",
    "        self.cds_list = cds_list\n",
    "        self.resp = resp\n",
    "\n",
    "\n",
    "def run_genscan(sequence=None,\n",
    "                sequence_file=None,\n",
    "                organism=\"Vertebrate\",\n",
    "                exon_cutoff=1.00,\n",
    "                sequence_name=\"\",\n",
    "                print_options='Predicted peptides only'):\n",
    "    '''\n",
    "    API for GENSCAN Online Version.\n",
    "    It identifies complete exon/intron structures of genes in genomic DNA.\n",
    "    Allows to analyze sequences up to 1 million base pairs (1 Mbp) in length.\n",
    "\n",
    "    :param sequence: str, DNA sequence (upper or lower case, spaces/numbers ignored)\n",
    "    :param sequence_file: str, path to DNA sequence file\n",
    "    :param organism: str, type of organism from which DNA sequence was obtained\n",
    "    :param exon_cutoff: float, allows to find less probable exons.\n",
    "                        Available values: 1.00, 0.5, 0.25, 0.1, 0.05, 0.02, 0.01 (default 1.00)\n",
    "    :param sequence_name: name of the target nucleotide sequence\n",
    "    :param print_options: str, 'Predicted peptides only' (default) or 'Predicted CDS and peptides'\n",
    "    '''\n",
    "\n",
    "    genscan_url = 'http://hollywood.mit.edu/cgi-bin/genscanw_py.cgi'\n",
    "    payload = {'-o': organism,\n",
    "               '-e': exon_cutoff,\n",
    "               '-n': sequence_name,\n",
    "               '-p': print_options}\n",
    "\n",
    "    # make request and get info from browser\n",
    "    if sequence_file is None:\n",
    "        payload['-s'] = sequence\n",
    "        resp = requests.post(genscan_url, data=payload)\n",
    "    else:\n",
    "        with open(sequence_file, 'rb') as fasta_file:\n",
    "            files = {'-u': fasta_file}\n",
    "            resp = requests.post(genscan_url, data=payload, files=files)\n",
    "\n",
    "    # find list of coding sequences\n",
    "    pattern_1 = re.compile(r'Predicted peptide sequence\\(s\\):[\\d\\D]+')\n",
    "    pattern_2 = re.compile(r'>.+\\n{2}([ARNDCEQGHILKMFPSTWYV\\n]+)')\n",
    "    pattern_3 = re.compile(r'([ARNDCEQGHILKMFPSTWYV]+)')\n",
    "    results = pattern_2.findall(pattern_1.findall(resp.text)[0])\n",
    "    cds_list = []\n",
    "    for result in results:\n",
    "        cds_list.append(''.join(pattern_3.findall(result)))\n",
    "\n",
    "    # find exons and introns\n",
    "    exon_list = []\n",
    "    intron_list = []\n",
    "    for element in re.compile(r'\\d\\.\\d{2}\\s+([A-z]+)\\s+[\\-\\+]\\s+(\\d+)\\s+(\\d+)').findall(resp.text):\n",
    "        if element[0] in ['Init', 'Intr', 'Term', 'Sngl']:\n",
    "            exon_list.append(element[1:])\n",
    "        else:\n",
    "            intron_list.append(element[1:])\n",
    "\n",
    "    genscan_output = GenscanOutput(status=resp.status_code,\n",
    "                                   cds_list=cds_list,\n",
    "                                   intron_list=intron_list,\n",
    "                                   exon_list=exon_list,\n",
    "                                   resp=resp)\n",
    "\n",
    "    return genscan_output"
   ]
  },
  {
   "cell_type": "markdown",
   "metadata": {},
   "source": [
    "**Look at GENSCAN Online Version:**"
   ]
  },
  {
   "cell_type": "code",
   "execution_count": 3,
   "metadata": {
    "ExecuteTime": {
     "end_time": "2022-03-29T20:02:40.222522Z",
     "start_time": "2022-03-29T20:02:39.555438Z"
    }
   },
   "outputs": [
    {
     "data": {
      "text/html": [
       "<HTML>\n",
       "\n",
       "<HEAD>\n",
       "\n",
       "<TITLE>New GENSCAN Web Server at MIT</TITLE>\n",
       "\n",
       "<META HTTP-EQUIV=\"OWNER\" CONTENT=\"Chris Burge\">\n",
       "\n",
       "<LINK REL=\"made\" HREF=\"mailto:cburge@mit.edu\">\n",
       "\n",
       "<!-- <BASE HREF=\"http://genes.mit.edu/GENSCAN.html\"> -->\n",
       "\n",
       "</HEAD>\n",
       "<BODY BGCOLOR=\"#00336677\" link=\"#FFFF00\" vlink=\"#77FFFF77\" alink=\"#FFFF00\" text=\"#FFFFFF\">\n",
       "\n",
       "<FORM ACTION=\"/cgi-bin/genscanw_py.cgi\" ENCTYPE=\"multipart/form-data\" METHOD=\"POST\">\n",
       "\n",
       "<A NAME=\"Top\"></A>\n",
       "<BR>\n",
       "<H1><CENTER>The GENSCAN Web Server at MIT</CENTER></H1>\n",
       "<BR>\n",
       "<H2><CENTER>Identification of complete gene structures in genomic DNA</CENTER></H2>\n",
       "<BR>\n",
       "\n",
       "<IMG SRC=\"images/question-mark.gif\" NATURALSIZEFLAG=\"3\" ALIGN=\"left\"> <BR>\n",
       "<a href=GENSCANinfo.html>\n",
       "<H3>\n",
       "For information about Genscan, click here</a>\n",
       "</H3>\n",
       "<blockquote>\n",
       "<b>Server update, November, 2009:</b> We've been recently upgrading the GENSCAN webserver hardware, which resulted in some problems in the output of GENSCAN. We apologize for the inconvenience. These output errors were resolved.\n",
       "</blockquote>\n",
       "<BR>\n",
       "<IMG SRC=\"lines/bann03.gif\" NATURALSIZEFLAG=\"3\" ALIGN=\"left\">\n",
       "<BR>\n",
       "This server provides access to the program Genscan for predicting the locations\n",
       "and exon-intron structures of genes in genomic sequences from a\n",
       "variety of organisms.\n",
       "\n",
       "<p>\n",
       "This server can accept sequences up to 1 million base pairs (1 Mbp) in\n",
       "length.  If you have trouble with the web server or if you have a\n",
       "large number of sequences to process, request a local copy of the\n",
       "program (see instructions at the bottom of this page).\n",
       "\n",
       "<!-- or use the <A\n",
       "HREF=GENSCANM.html>GENSCAN email server</A>.\n",
       "If your browser (<I>e.g.</I>, Lynx) does not support file upload or\n",
       "multipart forms, use the <A\n",
       "HREF=oldGENSCAN.html>older version</A>.\n",
       "<BR>-->\n",
       "<BR>\n",
       "<P>\n",
       "Organism: <SELECT NAME=\"-o\">\n",
       "<OPTION SELECTED>Vertebrate\n",
       "<OPTION>Arabidopsis\n",
       "<OPTION>Maize\n",
       "</SELECT>\n",
       "\n",
       "Suboptimal exon cutoff (optional):\n",
       "<SELECT NAME=\"-e\">\n",
       "<OPTION SELECTED>1.00\n",
       "<OPTION>0.50\n",
       "<OPTION>0.25\n",
       "<OPTION>0.10\n",
       "<OPTION>0.05\n",
       "<OPTION>0.02\n",
       "<OPTION>0.01\n",
       "</SELECT>\n",
       "\n",
       "<P>\n",
       "Sequence name (optional): <INPUT TYPE=text NAME=\"-n\" SIZE=40>\n",
       "\n",
       "<P>\n",
       "Print options:\n",
       "<SELECT NAME=\"-p\">\n",
       "<OPTION SELECTED>Predicted peptides only\n",
       "<OPTION>Predicted CDS and peptides\n",
       "</SELECT>\n",
       "\n",
       "<P> \n",
       "Upload your DNA sequence file (upper or lower case,\n",
       "spaces/numbers ignored): <INPUT TYPE=\"file\" NAME=\"-u\">\n",
       "\n",
       "<P>\n",
       "Or paste your DNA sequence here (upper or lower case,\n",
       "spaces/numbers ignored):<BR>\n",
       "<TEXTAREA NAME=\"-s\" ROWS=\"12\" COLS=\"72\"></TEXTAREA><BR>\n",
       "\n",
       "<P>\n",
       "<!--To have the results mailed to you, enter your email address here (optional):\n",
       "<INPUT TYPE=text NAME=\"-a\" SIZE=50> -->\n",
       "\n",
       "<P>\n",
       "<INPUT TYPE=submit VALUE=\"Run GENSCAN\">   <INPUT TYPE=reset VALUE=\"Clear Input\">\n",
       "<BR>\n",
       "<BR>\n",
       "<I><A HREF=\"#Top\">Back to the top</A></I> <BR>\n",
       "<!---HR>\n",
       "<BR>\n",
       "\n",
       "<pre>\n",
       "\n",
       "-. .-.   .-. .-.   .-. .-.   .-. .-.   .-. .-.   .-. .-.   .-. .-.   .-. .-.   .-. .-.   .\n",
       "||X|||\\ /|||X|||\\ /|||X|||\\ /|||X|||\\ /|||X|||\\ /|||X|||\\ /|||X|||\\ /|||X|||\\ /|||X|||\\ /|\n",
       "|/ \\|||X|||/ \\|||X|||/ \\|||X|||/ \\|||X|||/ \\|||X|||/ \\|||X|||/ \\|||X|||/ \\|||X|||/ \\|||X||\n",
       "'   `-' `-'   `-' `-'   `-' `-'   `-' `-'   `-' `-'   `-' `-'   `-' `-'   `-' `-'   `-' `-\n",
       "\n",
       "</pre--->\n",
       "<BR>\n",
       "<P>\n",
       "<IMG SRC=\"lines/bann03.gif\" NATURALSIZEFLAG=\"3\" ALIGN=left>\n",
       "<BR>\n",
       "\n",
       "\n",
       "<P>\n",
       "GENSCAN was developed by Chris Burge in the research group of Samuel Karlin,\n",
       "Department of Mathematics, Stanford University.\n",
       "The program and the model that underlies it are described in:\n",
       "<P>\n",
       "Burge, C. and Karlin, S. (1997) Prediction of complete\n",
       "gene structures in human genomic DNA.\n",
       "<I> J. Mol. Biol. </I> <b> 268, </b> 78-94.\n",
       "<P>\n",
       "The splice site models used are described in more detail in:\n",
       "<P>\n",
       "Burge, C. B. (1998) Modeling dependencies in pre-mRNA splicing\n",
       "signals. In Salzberg, S., Searls, D. and Kasif, S., eds.\n",
       "<A HREF=\"http://www.cs.jhu.edu/~salzberg/compbio-book.html\">\n",
       "Computational Methods in Molecular Biology</A>, \n",
       "Elsevier Science, Amsterdam, pp. 127-163.\n",
       "<P>\n",
       "See also:\n",
       "<P>\n",
       "Burge, C. B. and Karlin, S. (1998) Finding the genes in genomic DNA.\n",
       "<I> Curr. Opin. Struct. Biol.</I> <B>8,</B> 346-354.\n",
       "<P>\n",
       "This web server is located in the Burge laboratory\n",
       "at the MIT Department of Biology.\n",
       "<P>\n",
       "Address any comments/questions/suggestions to:\n",
       "<A HREF=\"http://genes.mit.edu/burgelab\">Chris Burge</A>\n",
       "<A HREF=\"mailto:cburge@mit.edu\">(cburge@mit.edu)</A>\n",
       "<BR>\n",
       "<P>\n",
       "\n",
       "Please notify me by email (cburge@mit.edu) if:\n",
       "1) the web/email server is not working;\n",
       "2) you find a bug in GENSCAN; or\n",
       "3) you have a suggestion for how to make the\n",
       "program more \"user friendly\".  In your email, please specify which Genscan\n",
       "server you had trouble with (e.g., new MIT web server, MIT email server) and\n",
       "the nature of the problem.\n",
       "<P>\n",
       "NOTE.  This server is for the program \"GENSCAN\", developed\n",
       "by Chris Burge at Stanford University, not to be\n",
       "confused with the Applied Biosystems sequencing software called \"GENESCAN\".\n",
       "<P>\n",
       "<HR>\n",
       "<P>\n",
       "Copyright &copy; 1997-2005 Christopher Burge\n",
       "<P>\n",
       "GENSCAN is freely available for academic use.  Executables are\n",
       "currently available for the following Unix platforms: Intel/Linux,\n",
       "Sun/Solaris, Intel/Solaris, SGI/Irix, DEC/Tru64, and IBM/AIX.  Platforms not\n",
       "listed are not currently supported.  To obtain a copy of GENSCAN for\n",
       "academic use, go to the <A HREF=\"license.html\">\n",
       "academic license agreement web site</A> and download the executable\n",
       "after completing the form.\n",
       "<p>\n",
       "For commercial use, contact\n",
       "<A HREF=\"mailto:imelda.oropeza@stanford.edu\"> Imelda Oropeza</A>\n",
       "at the Stanford University \n",
       "<A HREF=\"http://www.stanford.edu/group/OTL\">Office of Technology Licensing</A>.\n",
       "<!--- or read Stanford's <A HREF=\"http://otl.stanford.edu/inventors/resources/genscan.html\">\n",
       "ready-to-sign GENSCAN license agreement</A>. --->\n",
       "\n",
       "</FORM>\n",
       "\n",
       "</BODY>\n",
       "\n",
       "</HTML>\n"
      ],
      "text/plain": [
       "<IPython.core.display.HTML object>"
      ]
     },
     "execution_count": 3,
     "metadata": {},
     "output_type": "execute_result"
    }
   ],
   "source": [
    "resp = requests.get('http://hollywood.mit.edu/GENSCAN.html')\n",
    "HTML(data=resp.text)"
   ]
  },
  {
   "cell_type": "markdown",
   "metadata": {},
   "source": [
    "## Testing API"
   ]
  },
  {
   "cell_type": "markdown",
   "metadata": {},
   "source": [
    "### Testing on `neurofibromin.fa`"
   ]
  },
  {
   "cell_type": "code",
   "execution_count": 4,
   "metadata": {
    "ExecuteTime": {
     "end_time": "2022-03-29T20:02:45.458051Z",
     "start_time": "2022-03-29T20:02:40.229032Z"
    }
   },
   "outputs": [],
   "source": [
    "genscan_output_neurofibromin = run_genscan(sequence=None, \n",
    "                                           sequence_file='../data/neurofibromin.fa', \n",
    "                                           organism=\"Vertebrate\", \n",
    "                                           exon_cutoff=1.00, \n",
    "                                           sequence_name=\"neurofibramin 1\",\n",
    "                                           print_options='Predicted peptides only')"
   ]
  },
  {
   "cell_type": "markdown",
   "metadata": {},
   "source": [
    "**That's like looks browser version for our response:**"
   ]
  },
  {
   "cell_type": "code",
   "execution_count": 5,
   "metadata": {
    "ExecuteTime": {
     "end_time": "2022-03-29T20:02:45.483088Z",
     "start_time": "2022-03-29T20:02:45.464688Z"
    },
    "scrolled": false
   },
   "outputs": [
    {
     "data": {
      "text/html": [
       "\n",
       "<head><title>GENSCAN Output</title>\n",
       "<style type=\"text/css\">\n",
       "hr {color:darkblue}\n",
       "p {margin-left:20px}\n",
       "body {font-family: helvetica, arial}\n",
       "blockquote { border: 5px solid black; padding: 5px 5px 5px}\n",
       "</style>\n",
       "</head>\n",
       "<body BGCOLOR=\"#00336677\" link=\"#FFFF00\" vlink=\"#77FFFF77\" alink=\"#FFFF00\" text=\"#FFFFFF\">\n",
       "\n",
       "<h2>GENSCAN Output</h2>\n",
       "<blockquote>\n",
       "View gene model output: <a href=\"../03_29_22-16:02:41.ps\">PS</a> | <a href=\"../03_29_22-16:02:41.pdf\">PDF</a>\n",
       "<pre>\n",
       "GENSCAN 1.0\tDate run: 29-Mar-122\tTime: 16:02:44\n",
       "\n",
       "\n",
       "\n",
       "Sequence /tmp/03_29_22-16:02:41.fasta : 282794 bp : 37.55% C+G : Isochore 1 ( 0 - 43 C+G%)\n",
       "\n",
       "\n",
       "\n",
       "Parameter matrix: HumanIso.smat\n",
       "\n",
       "\n",
       "\n",
       "Predicted genes/exons:\n",
       "\n",
       "\n",
       "\n",
       "Gn.Ex Type S .Begin ...End .Len Fr Ph I/Ac Do/T CodRg P.... Tscr..\n",
       "\n",
       "----- ---- - ------ ------ ---- -- -- ---- ---- ----- ----- ------\n",
       "\n",
       "\n",
       "\n",
       " 1.01 Init +    427    486   60  0  0   95   91   102 0.884  12.51\n",
       "\n",
       " 1.02 Intr +  35748  36086  339  2  0   60   84   142 0.002   5.74\n",
       "\n",
       " 1.03 Intr +  61100  61243  144  1  0  121  101    37 0.294   7.86\n",
       "\n",
       " 1.04 Intr +  68303  68493  191  1  2   34   92   159 0.203   8.36\n",
       "\n",
       " 1.05 Intr +  75008  75114  107  2  2  112  110    96 0.998  13.14\n",
       "\n",
       " 1.06 Intr +  86539  86606   68  2  2   63  115    49 0.021   2.81\n",
       "\n",
       " 1.07 Intr +  86827  86902   76  0  1   64   95    50 0.152   1.47\n",
       "\n",
       " 1.08 Intr +  87625  87782  158  2  2   69  116   154 0.986  15.11\n",
       "\n",
       " 1.09 Intr +  89844  90062  219  2  0   92    3   153 0.255   4.78\n",
       "\n",
       " 1.10 Intr +  90329  90356   28  1  1   98   32    13 0.844  -6.53\n",
       "\n",
       " 1.11 Intr +  90791  90997  207  0  0   53   67   234 0.713  15.93\n",
       "\n",
       " 1.12 Intr +  91195  91283   89  2  2   29  108    85 0.777   3.37\n",
       "\n",
       " 1.13 Intr +  93179  93335  157  1  1   18   61   120 0.337   0.96\n",
       "\n",
       " 1.14 Intr +  93962  94053   92  0  2  101   86    39 0.526   3.79\n",
       "\n",
       " 1.15 Intr + 105539 105712  174  1  0   28   87   193 0.945  12.41\n",
       "\n",
       " 1.16 Intr + 106154 106276  123  1  0   41  100    54 0.772   1.76\n",
       "\n",
       " 1.17 Intr + 106528 106602   75  0  0  105  101    47 0.985   6.49\n",
       "\n",
       " 1.18 Intr + 111357 111488  132  2  0   81  111   136 0.999  15.12\n",
       "\n",
       " 1.19 Intr + 119568 119702  135  2  0  106   75    92 0.974   9.54\n",
       "\n",
       " 1.20 Intr + 124122 124235  114  2  0  120   94    67 0.850  10.22\n",
       "\n",
       " 1.21 Intr + 130212 130367  156  2  0   87   49    85 0.618   3.79\n",
       "\n",
       " 1.22 Intr + 131552 131801  250  1  1   54   99   276 0.996  21.39\n",
       "\n",
       " 1.23 Intr + 132335 132408   74  0  2   62   69    40 0.993  -2.29\n",
       "\n",
       " 1.24 Intr + 132640 132723   84  0  0   59  111    75 0.981   6.00\n",
       "\n",
       " 1.25 Intr + 134142 134582  441  2  0   46  103   401 0.956  30.13\n",
       "\n",
       " 1.26 Intr + 134952 135091  140  2  2  103  115    81 0.999  10.64\n",
       "\n",
       " 1.27 Intr + 135377 135499  123  2  0   93   95    54 0.977   5.38\n",
       "\n",
       " 1.28 Intr + 135959 136042   84  2  0   72   93    84 0.976   5.32\n",
       "\n",
       " 1.29 Intr + 137190 137306  117  0  0  123    6    87 0.853   2.66\n",
       "\n",
       " 1.30 Intr + 137817 137998  182  0  2   83   66   110 0.963   6.89\n",
       "\n",
       " 1.31 Intr + 138119 138330  212  0  2   56  106   234 0.994  19.71\n",
       "\n",
       " 1.32 Intr + 140728 140889  162  0  0  116   76    97 0.987  10.55\n",
       "\n",
       " 1.33 Intr + 141035 141138  104  1  2   89   72    73 0.807   3.85\n",
       "\n",
       " 1.34 Intr + 149707 149823  117  1  0   95   97    21 0.055   2.36\n",
       "\n",
       " 1.35 Intr + 154101 154236  136  0  1   69   85    97 0.925   7.15\n",
       "\n",
       " 1.36 Intr + 163461 163619  159  2  0   96   63    69 0.952   4.46\n",
       "\n",
       " 1.37 Intr + 164149 164246   98  0  2   85   91   103 0.996   8.19\n",
       "\n",
       " 1.38 Intr + 165486 165632  147  0  0   24  110    78 0.703   2.03\n",
       "\n",
       " 1.39 Intr + 166828 166974  147  1  0   45   71   104 0.864   2.83\n",
       "\n",
       " 1.40 Intr + 170346 170456  111  0  0  116   94    32 0.918   5.18\n",
       "\n",
       " 1.41 Term + 177762 177861  100  0  1   12   44   161 0.508   0.72\n",
       "\n",
       " 1.42 PlyA + 178153 178158    6                               1.05\n",
       "\n",
       "\n",
       "\n",
       " 2.02 PlyA - 178310 178305    6                               1.05\n",
       "\n",
       " 2.01 Sngl - 201139 200126 1014  1  0   64   55   646 0.707  55.66\n",
       "\n",
       " 2.00 Prom - 201623 201584   40                              -3.05\n",
       "\n",
       "\n",
       "\n",
       " 3.05 PlyA - 201698 201693    6                               1.05\n",
       "\n",
       " 3.04 Term - 210597 209380 1218  0  0   70   36   801 0.133  63.73\n",
       "\n",
       " 3.03 Intr - 219161 219096   66  2  0   77   94    55 0.151   3.18\n",
       "\n",
       " 3.02 Intr - 219582 219488   95  1  2   40   93     9 0.150  -4.64\n",
       "\n",
       " 3.01 Init - 224130 223425  706  0  1   82   78   288 0.237  22.35\n",
       "\n",
       " 3.00 Prom - 225597 225558   40                              -8.95\n",
       "\n",
       "\n",
       "\n",
       " 4.00 Prom + 226591 226630   40                              -6.15\n",
       "\n",
       " 4.01 Init + 229474 229484   11  0  2  114   42    -6 0.829  -2.78\n",
       "\n",
       " 4.02 Intr + 230937 231369  433  0  1  105  106   315 0.830  27.72\n",
       "\n",
       " 4.03 Intr + 232616 232956  341  1  2   88   90   288 0.997  22.35\n",
       "\n",
       " 4.04 Intr + 235413 235615  203  0  2   99   94    79 0.980   7.61\n",
       "\n",
       " 4.05 Intr + 239955 240148  194  1  2   90   72   165 0.976  13.39\n",
       "\n",
       " 4.06 Intr + 241450 241590  141  0  0   74   84    93 0.990   7.13\n",
       "\n",
       " 4.07 Intr + 241752 241944  193  2  1   82   62   139 0.605   8.84\n",
       "\n",
       " 4.08 Intr + 242485 242699  215  2  2  107   65   174 0.994  14.51\n",
       "\n",
       " 4.09 Intr + 245622 245762  141  2  0   57  121   144 0.957  14.23\n",
       "\n",
       " 4.10 Term + 250732 251307  576  0  0   14   46   605 0.003  42.38\n",
       "\n",
       " 4.11 PlyA + 252323 252328    6                               1.05\n",
       "\n",
       "\n",
       "\n",
       " 5.00 Prom + 252544 252583   40                             -10.25\n",
       "\n",
       " 5.01 Init + 252681 252747   67  2  1   71   81    24 0.451   1.29\n",
       "\n",
       " 5.02 Intr + 254237 254368  132  0  0   87   98    67 0.993   7.30\n",
       "\n",
       " 5.03 Intr + 255300 255435  136  1  1  117   97    65 0.988   9.01\n",
       "\n",
       " 5.04 Intr + 257374 257531  158  1  2  109   45   153 0.164  11.83\n",
       "\n",
       " 5.05 Intr + 261577 261699  123  2  0   93   72   117 0.960  10.24\n",
       "\n",
       " 5.06 Intr + 262077 262207  131  1  2   91   66   160 0.999  13.59\n",
       "\n",
       " 5.07 Intr + 262386 262486  101  2  2   81   75    73 0.807   3.29\n",
       "\n",
       " 5.08 Intr + 263597 263739  143  2  2  117   33    46 0.769   1.08\n",
       "\n",
       " 5.09 Intr + 264086 264132   47  0  2   40  116    22 0.609  -2.59\n",
       "\n",
       " 5.10 Intr + 265604 265820  217  1  1   78   82   136 0.675   9.15\n",
       "\n",
       " 5.11 Term + 279037 279272  236  2  2   34   48   193 0.395   5.40\n",
       "\n",
       " 5.12 PlyA + 280755 280760    6                               1.05\n",
       "\n",
       "\n",
       "\n",
       "\n",
       "\n",
       "Suboptimal exons with probability > 1.000\n",
       "\n",
       "\n",
       "\n",
       "Exnum Type S .Begin ...End .Len Fr Ph B/Ac Do/T CodRg P.... Tscr..\n",
       "\n",
       "----- ---- - ------ ------ ---- -- -- ---- ---- ----- ----- ------\n",
       "\n",
       "\n",
       "\n",
       "\n",
       "\n",
       "NO EXONS FOUND AT GIVEN PROBABILITY CUTOFF\n",
       "\n",
       "\n",
       "\n",
       "\n",
       "\n",
       "Predicted peptide sequence(s):\n",
       "\n",
       "\n",
       "\n",
       "\n",
       "\n",
       ">/tmp/03_29_22-16:02:41.fasta|GENSCAN_predicted_peptide_1|1943_aa\n",
       "\n",
       "MAAHRPVEWVQAVVSRFDEQGLSAGGDGTGGLCTCQCSLDNGHGGIGRVYSRWLQWHGRV\n",
       "\n",
       "LARMCAGGEGKTRYTCAHVWAKHLEGGHGRVPAGKAAWSSLRWEEGIGRLVLFHRDHCGW\n",
       "\n",
       "STLPVSTLSVQELLPIKTGQQNTHTKVSTEHNKECLINISKYKFSLVISGLTTILKNVNN\n",
       "\n",
       "MQPKDTMRLDETMLVKQLLPEICHFLHTCREGNQHAAELRNSASGVLFSLSCNNFNAVFS\n",
       "\n",
       "RISTRLQELTVCSEDNVDVHDIELLQYINVDCAKLKRLLKETAFKFKALKKVAQLAVINS\n",
       "\n",
       "LEKAFWNWVENYPDEFTKLYQIPQTDMAECAEKLFDLVDGFAESTKRKAAVWPLQIILLI\n",
       "\n",
       "LCPEIIQDISKDVVDENNMNKKQILSLKSAKIDLSETLISCRKRAEIVKKQTQTLIMQVA\n",
       "\n",
       "DLQQKVHVQPNQVSTVKVWALIGKEWDPATWKGHTYNQTKVLAGVLLWPIYPVTQRTASF\n",
       "\n",
       "EWGPEQEKALQQVQAAVQAALPLGPYDPTDPMVLEVSVADKDAVSSLWQAPIAVKWVVHS\n",
       "\n",
       "SIPSSSGSGTYTIGLKQVLKAQVNGKLQQPHPGRTTNDPDPSGMKVWVTLPGKKPPPAEV\n",
       "\n",
       "LAEGKGNTEWLVEEASVFKFFSFGTWTGSPCSSPCRQPIVGPRDRKLFLDSLRKALAGHG\n",
       "\n",
       "GSRQLTESAAIACVKLCKASTYINWEDNSVIFLLVQSMVVDLKNLLFNPSKPFSRGSQPA\n",
       "\n",
       "DVDLMIDCLVSCFRISPHNNQHFKICLAQNSPSTFHYVLVNSLHRIITNSALDWWPKIDA\n",
       "\n",
       "VYCHSVELRNMFGETLHKAVQGCGAHPAIRMAPSLTFKEKVTSLKFKEKPTDLETRSYKY\n",
       "\n",
       "LLLSMVKLIHADPKLLLCNPRKQGPETQGSTAELITGLVQLVPQSHMPEIAQEAMEQADR\n",
       "\n",
       "SSCHFLLFYGVGCDIPSSGNTSQMSMDHEELLRTPGASLRKGKGNSSMDSAAGCSGTPPI\n",
       "\n",
       "CRQAQTKLEVALYMFLWNPDTEAVLVAMSCFRHLCEEADIRCGVDEVSVHNLLPNYNTFM\n",
       "\n",
       "EFASVSNMMSTGRAALQKRVMALLRRIEHPTAGNTEAWEDTHAKWEQATKLILNYPKAKM\n",
       "\n",
       "EDGQAAESLHKTIVKRRMSHVSGGGSIDLSDTDSLQEWINMTGFLCALGGVCLQQRSNSG\n",
       "\n",
       "LATYSPPMGPVSERKGSMISVMSSEGNADTPVSKFMDRLLSLMVCNHEKVGLQIRTNVKD\n",
       "\n",
       "LVGLELSPALYPMLFNKLKNTISKFFDSQGQVLLTDTNTQFVEQTIAIMKNLLDNHTEGS\n",
       "\n",
       "SEHLGQASIETMMLNLVRYVRVLGNMVHAIQIKTKLCQLVEVMMARRDDLSFCQEMKFRN\n",
       "\n",
       "KMVEYLTDWVMGTSNQAADDDVKCLTRDLDQASMEAVVSLLAGLPLQPEEGDGVELMEAK\n",
       "\n",
       "SQLFLKYFTLFMNLLNDCSEVEDESAQTGGRKRGMSRRLASLRHCTVLAMSNLLNANVDS\n",
       "\n",
       "GLMHSIGLGYHKDLQTRATFMEVLTKILQQGTEFDTLAETVLADRFERLVELVTMMGDQG\n",
       "\n",
       "ELPIAMALANVVPCSQWDELARVLVTLFDSRHLLYQLLWNMFSKEVELADSMQTLFRGNS\n",
       "\n",
       "LASKIMTFCFKVYGATYLQKLLDPLLRIVITSSDWQHVSFEVDPTRAAFSPNAKSHNHCA\n",
       "\n",
       "VRPPNADFLCTPRGHCQEVKEGWYRLEPSESLEENQRNLLQMTEKFFHAIISSSSEFPPQ\n",
       "\n",
       "LRSVCHCLYQVVSQRFPQNSIGAVGSAMFLRFINPAIVSPYEAGILDKKPPPRIERGLKL\n",
       "\n",
       "MSKILQSIANHVLFTKEEHMRPFNDFVKSNFDAARRFFLDIASDCPTSDAVNHSLSFISD\n",
       "\n",
       "GNVLALHRLLWNNQEKIGQYLSSNRDHKAVGRRPFDKMATLLAYLGPPEHKPVADTHWSS\n",
       "\n",
       "LNLTSSKFEEFMTRHQVHEKEEFKALKTLSIFYQAGTSKAGNPIFYYVARRLDAGLDTAI\n",
       "\n",
       "EFEVVDVEVCPRNVNKHEEQANR\n",
       "\n",
       "\n",
       "\n",
       ">/tmp/03_29_22-16:02:41.fasta|GENSCAN_predicted_peptide_2|337_aa\n",
       "\n",
       "MSAANNNIKLLDKSDTAYQWNLKYLDVSKNMLEKVVLIKNTLRSLEVLNLSSNKLWTVPT\n",
       "\n",
       "NMPSKLHIVDLSNNSLTQILPGTLINLTNLTHLYLHNNKFTFIPDQSFDQLFQLQEITLY\n",
       "\n",
       "NNRWSCDHKQNITYLLKWMMETKAHVIGTPCSTQISSLKEHNMYPTPSGFTSSLFTVSGM\n",
       "\n",
       "QTVDTINSLSVVTQPKVTKIPKQYRTKETTFGATLSKDTTFTSTDKAFVPYPEDTSTETI\n",
       "\n",
       "NSHEAAAATLTIHLQDGMVTNTSLTSSTKSSPTPMTLSITSGMPNNFSEMPQQSTTLNLW\n",
       "\n",
       "REETTTNVKTPLPSVANAWKVNASFLLLLNVVVMLAV\n",
       "\n",
       "\n",
       "\n",
       ">/tmp/03_29_22-16:02:41.fasta|GENSCAN_predicted_peptide_3|694_aa\n",
       "\n",
       "MPTDMEHTGHYLHLAFLMTTVFSLSPGTKANYTRLWANSTSSWDSVIQNKTGRNQNENIN\n",
       "\n",
       "TNPITPEVDYKGNSTNMPETSHIVALTSKSEQELYIPSVVSNSPSTVQSIENTSKSHGEI\n",
       "\n",
       "FKKDVCAENNNNMAMLICLIIIAVLFLICTFLFLSTVVLANKVSSLRRSKQVGKRQPRSN\n",
       "\n",
       "GDFLASGLWPAESDTWKRTKQLTGPNLVMQSTGVLTATRERKDEEGTEKLTNKQIEEETV\n",
       "\n",
       "TQKCRVLPKVIQVNRTHHSLLMRRNLTPNHQNVQLEQEFSILQKKLTAEVLANSQNTTGN\n",
       "\n",
       "PLGQPTQFSDTFSGQSISPAKVTAGQPTPAVYTSSEKPEAHTSAGQPLAYNTKQPTPIAN\n",
       "\n",
       "TSSQQAVFTSARQLPSARTSTTQPPKSFVYTFTQQSSSVQIPSRKQITVHNPSTQPTSTV\n",
       "\n",
       "KNSPRSTPGFILDTTSNKQTPQKNNYNSIAAILIGVLLTSMLVAIIIIVLWKCLRKPVLN\n",
       "\n",
       "DQNWAGRSPFADGETPDICMDNIRENEISTKRTSIISLTPWKPSKSTLLADDLEIKLFES\n",
       "\n",
       "SENIEDSNNPKTEKIKDQVNGTSEDSADGSTVGTAVSSSDDADLPPPPPLLDLEGQESNQ\n",
       "\n",
       "SDKPTMTIVSPLPNDSTSLPPSLDCLNQDCGDHKSEIIQSFPPLDSLNLPLPPVDFMKNQ\n",
       "\n",
       "EDSNLEIQCQEFSIPPNSDQDLNESLPPPPAELL\n",
       "\n",
       "\n",
       "\n",
       ">/tmp/03_29_22-16:02:41.fasta|GENSCAN_predicted_peptide_4|815_aa\n",
       "\n",
       "MPCLFKTGQINGDLLIYHVLLTLKPYYAKPYEIVVDLTHTGPSNRFKTDFLSKWFVVFPG\n",
       "\n",
       "FAYDNVSAVYIYNCNSWVREYTKYHERLLTGLKGSKRLVFIDCPGKLAEHIEHEQQKLPA\n",
       "\n",
       "ATLALEEDLKVFHNALKLAHKDTKVSIKVGSTAVQVTSAERTKVLGQSVFLNDIYYASEI\n",
       "\n",
       "EEICLVDENQFTLTIANQGTPLTFMHQECEAIVQSIIHIRTRWELSQPDSIPQHTKIRPK\n",
       "\n",
       "DVPGTLLNIALLNLGSSDPSLRSAAYNLLCALTCTFNLKIEGQLLETSGLCIPANNTLFI\n",
       "\n",
       "VSISKTLAANEPHLTLEFLEECISGFSKSSIELKHLCLEYMTPWLSNLVRFCKHNDDAKR\n",
       "\n",
       "QRVTAILDKLITMTINEKQMYPSIQAKIWGSLGQITDLLDVVLDSFIKTSATGGLGSIKA\n",
       "\n",
       "EVMADTAVALASGNVKLVSSKVIGRMCKIIDKTCLSPTPTLEQHLMWDDIAILARYMLML\n",
       "\n",
       "SFNNSLDVAAHLPYLFHVVTFLVATEETKQVLRLSLTEFSLPKFYLLFGISKVKSAAVIA\n",
       "\n",
       "FRSSYRDRSFSPGSYERETFALTSLETVTEALLEIMEDSPLHKALFWVAVAVLQLDEVNL\n",
       "\n",
       "YSAGTALLEQNLHTLDSLRIFNDKHLSSGHFLRENIKASTEVGEMAKQYIEKSLLVPDHV\n",
       "\n",
       "ITRLMMSELENRRGQHWLLDGFPRTLGQAEALDKICEVDLVISLNIPFETLKDRLSRRWI\n",
       "\n",
       "HPPSGRVYNLDFNPPHVHGIDDVTGEPLVQQEDDKPEAVAARLRQYKDVAKPVIELYKSR\n",
       "\n",
       "GVLHQFSGTETNKIWPYVYTLFSNKITPIQSKEAY\n",
       "\n",
       "\n",
       "\n",
       ">/tmp/03_29_22-16:02:41.fasta|GENSCAN_predicted_peptide_5|496_aa\n",
       "\n",
       "MMKFIPAALKICIPSSPIMTVPRYRHPSPAIVARTVRILHTLLTLVNKHRNCDKFEVNTQ\n",
       "\n",
       "SVAYLAALLTVSEEVRSRCSLKHRKSLLLTDISMENVPMDTYPIHHGDPSYRTLKETQPW\n",
       "\n",
       "SSPKGSEGYLAATYPTVGQTSPRARKSMSLDMGQPSQANTKKLLGTRKSFDHLISDTKAP\n",
       "\n",
       "KRQEMESGITTPPKMRRVAETDYEMETQRISSSQQHPHLRKVSVSESNVLLDEEVLTDPK\n",
       "\n",
       "IQALLLTVLATLVKYTTDEFDQRILYEYLAEASVVFPKVFPVVHNLLDSKINTLLSLCQD\n",
       "\n",
       "PNLLNPIHGIVQSVVYHEESPPQYQTSYLQSFGFNGLWRFAGPFSKQTQIPDYAELIVKF\n",
       "\n",
       "LDALIDTYLPGIDEETSEESLLTPTSPYPPALQSQLSITANLNLSNSMTSLATSQHSPEC\n",
       "\n",
       "VPVVKRHMTAMKFSPGRKRRSNWLFSFSPGIDKENVELSPTTGHCNSGRTRHGSASQVQK\n",
       "\n",
       "QRSAGSFKRNSIKKIV\n",
       "\n",
       "</pre>\n",
       "</blockquote>\n",
       "\n",
       "<hr noshade>\n",
       "\n",
       "\n",
       "<p><a href=\"http://argonaute.mit.edu/GENSCAN.html\">Back to GENSCAN</a>\n",
       "</body>\n",
       "</html>\n",
       "\n"
      ],
      "text/plain": [
       "<IPython.core.display.HTML object>"
      ]
     },
     "execution_count": 5,
     "metadata": {},
     "output_type": "execute_result"
    }
   ],
   "source": [
    "HTML(data=genscan_output_neurofibromin.resp.text)"
   ]
  },
  {
   "cell_type": "markdown",
   "metadata": {},
   "source": [
    "### First table from results (which we parse):\n",
    "* **Gn.Ex :** gene number, exon number (for reference)\n",
    "* **Type  :**\n",
    "        Init = Initial exon\n",
    "        Intr = Internal exon\n",
    "        Term = Terminal exon\n",
    "        Sngl = Single-exon gene\n",
    "        Prom = Promoter\n",
    "        PlyA = poly-A signal\n",
    "* **S     :** DNA strand (+ = input strand; - = opposite strand)\n",
    "* **Begin :** beginning of exon or signal (numbered on input strand)\n",
    "* **End   :** end point of exon or signal (numbered on input strand)\n",
    "* **Len   :** length of exon or signal (bp)\n",
    "* **Fr    :** reading frame (a codon ending at x is in frame f = x mod 3)\n",
    "* **Ph    :** net phase of exon (length mod 3)\n",
    "* **I/Ac  :** initiation signal or acceptor splice site score (x 10)\n",
    "* **Do/T  :** donor splice site or termination signal score (x 10)\n",
    "* **CodRg :** coding region score (x 10)\n",
    "* **P     :** probability of exon (sum over all parses containing exon)\n",
    "* **Tscr  :** exon score (depends on length, I/Ac, Do/T and CodRg scores)"
   ]
  },
  {
   "cell_type": "markdown",
   "metadata": {},
   "source": [
    "**Status code:**"
   ]
  },
  {
   "cell_type": "code",
   "execution_count": 6,
   "metadata": {
    "ExecuteTime": {
     "end_time": "2022-03-29T20:02:45.498427Z",
     "start_time": "2022-03-29T20:02:45.490127Z"
    }
   },
   "outputs": [
    {
     "data": {
      "text/plain": [
       "200"
      ]
     },
     "execution_count": 6,
     "metadata": {},
     "output_type": "execute_result"
    }
   ],
   "source": [
    "genscan_output_neurofibromin.status"
   ]
  },
  {
   "cell_type": "markdown",
   "metadata": {},
   "source": [
    "**Coding sequences:**"
   ]
  },
  {
   "cell_type": "code",
   "execution_count": 7,
   "metadata": {
    "ExecuteTime": {
     "end_time": "2022-03-29T20:02:45.509215Z",
     "start_time": "2022-03-29T20:02:45.501743Z"
    }
   },
   "outputs": [
    {
     "name": "stdout",
     "output_type": "stream",
     "text": [
      "MAAHRPVEWVQAVVSRFDEQGLSAGGDGTGGLCTCQCSLDNGHGGIGRVYSRWLQWHGRVLARMCAGGEGKTRYTCAHVWAKHLEGGHGRVPAGKAAWSSLRWEEGIGRLVLFHRDHCGWSTLPVSTLSVQELLPIKTGQQNTHTKVSTEHNKECLINISKYKFSLVISGLTTILKNVNNMQPKDTMRLDETMLVKQLLPEICHFLHTCREGNQHAAELRNSASGVLFSLSCNNFNAVFSRISTRLQELTVCSEDNVDVHDIELLQYINVDCAKLKRLLKETAFKFKALKKVAQLAVINSLEKAFWNWVENYPDEFTKLYQIPQTDMAECAEKLFDLVDGFAESTKRKAAVWPLQIILLILCPEIIQDISKDVVDENNMNKKQILSLKSAKIDLSETLISCRKRAEIVKKQTQTLIMQVADLQQKVHVQPNQVSTVKVWALIGKEWDPATWKGHTYNQTKVLAGVLLWPIYPVTQRTASFEWGPEQEKALQQVQAAVQAALPLGPYDPTDPMVLEVSVADKDAVSSLWQAPIAVKWVVHSSIPSSSGSGTYTIGLKQVLKAQVNGKLQQPHPGRTTNDPDPSGMKVWVTLPGKKPPPAEVLAEGKGNTEWLVEEASVFKFFSFGTWTGSPCSSPCRQPIVGPRDRKLFLDSLRKALAGHGGSRQLTESAAIACVKLCKASTYINWEDNSVIFLLVQSMVVDLKNLLFNPSKPFSRGSQPADVDLMIDCLVSCFRISPHNNQHFKICLAQNSPSTFHYVLVNSLHRIITNSALDWWPKIDAVYCHSVELRNMFGETLHKAVQGCGAHPAIRMAPSLTFKEKVTSLKFKEKPTDLETRSYKYLLLSMVKLIHADPKLLLCNPRKQGPETQGSTAELITGLVQLVPQSHMPEIAQEAMEQADRSSCHFLLFYGVGCDIPSSGNTSQMSMDHEELLRTPGASLRKGKGNSSMDSAAGCSGTPPICRQAQTKLEVALYMFLWNPDTEAVLVAMSCFRHLCEEADIRCGVDEVSVHNLLPNYNTFMEFASVSNMMSTGRAALQKRVMALLRRIEHPTAGNTEAWEDTHAKWEQATKLILNYPKAKMEDGQAAESLHKTIVKRRMSHVSGGGSIDLSDTDSLQEWINMTGFLCALGGVCLQQRSNSGLATYSPPMGPVSERKGSMISVMSSEGNADTPVSKFMDRLLSLMVCNHEKVGLQIRTNVKDLVGLELSPALYPMLFNKLKNTISKFFDSQGQVLLTDTNTQFVEQTIAIMKNLLDNHTEGSSEHLGQASIETMMLNLVRYVRVLGNMVHAIQIKTKLCQLVEVMMARRDDLSFCQEMKFRNKMVEYLTDWVMGTSNQAADDDVKCLTRDLDQASMEAVVSLLAGLPLQPEEGDGVELMEAKSQLFLKYFTLFMNLLNDCSEVEDESAQTGGRKRGMSRRLASLRHCTVLAMSNLLNANVDSGLMHSIGLGYHKDLQTRATFMEVLTKILQQGTEFDTLAETVLADRFERLVELVTMMGDQGELPIAMALANVVPCSQWDELARVLVTLFDSRHLLYQLLWNMFSKEVELADSMQTLFRGNSLASKIMTFCFKVYGATYLQKLLDPLLRIVITSSDWQHVSFEVDPTRAAFSPNAKSHNHCAVRPPNADFLCTPRGHCQEVKEGWYRLEPSESLEENQRNLLQMTEKFFHAIISSSSEFPPQLRSVCHCLYQVVSQRFPQNSIGAVGSAMFLRFINPAIVSPYEAGILDKKPPPRIERGLKLMSKILQSIANHVLFTKEEHMRPFNDFVKSNFDAARRFFLDIASDCPTSDAVNHSLSFISDGNVLALHRLLWNNQEKIGQYLSSNRDHKAVGRRPFDKMATLLAYLGPPEHKPVADTHWSSLNLTSSKFEEFMTRHQVHEKEEFKALKTLSIFYQAGTSKAGNPIFYYVARRLDAGLDTAIEFEVVDVEVCPRNVNKHEEQANR\n",
      "\n",
      "MSAANNNIKLLDKSDTAYQWNLKYLDVSKNMLEKVVLIKNTLRSLEVLNLSSNKLWTVPTNMPSKLHIVDLSNNSLTQILPGTLINLTNLTHLYLHNNKFTFIPDQSFDQLFQLQEITLYNNRWSCDHKQNITYLLKWMMETKAHVIGTPCSTQISSLKEHNMYPTPSGFTSSLFTVSGMQTVDTINSLSVVTQPKVTKIPKQYRTKETTFGATLSKDTTFTSTDKAFVPYPEDTSTETINSHEAAAATLTIHLQDGMVTNTSLTSSTKSSPTPMTLSITSGMPNNFSEMPQQSTTLNLWREETTTNVKTPLPSVANAWKVNASFLLLLNVVVMLAV\n",
      "\n",
      "MPTDMEHTGHYLHLAFLMTTVFSLSPGTKANYTRLWANSTSSWDSVIQNKTGRNQNENINTNPITPEVDYKGNSTNMPETSHIVALTSKSEQELYIPSVVSNSPSTVQSIENTSKSHGEIFKKDVCAENNNNMAMLICLIIIAVLFLICTFLFLSTVVLANKVSSLRRSKQVGKRQPRSNGDFLASGLWPAESDTWKRTKQLTGPNLVMQSTGVLTATRERKDEEGTEKLTNKQIEEETVTQKCRVLPKVIQVNRTHHSLLMRRNLTPNHQNVQLEQEFSILQKKLTAEVLANSQNTTGNPLGQPTQFSDTFSGQSISPAKVTAGQPTPAVYTSSEKPEAHTSAGQPLAYNTKQPTPIANTSSQQAVFTSARQLPSARTSTTQPPKSFVYTFTQQSSSVQIPSRKQITVHNPSTQPTSTVKNSPRSTPGFILDTTSNKQTPQKNNYNSIAAILIGVLLTSMLVAIIIIVLWKCLRKPVLNDQNWAGRSPFADGETPDICMDNIRENEISTKRTSIISLTPWKPSKSTLLADDLEIKLFESSENIEDSNNPKTEKIKDQVNGTSEDSADGSTVGTAVSSSDDADLPPPPPLLDLEGQESNQSDKPTMTIVSPLPNDSTSLPPSLDCLNQDCGDHKSEIIQSFPPLDSLNLPLPPVDFMKNQEDSNLEIQCQEFSIPPNSDQDLNESLPPPPAELL\n",
      "\n",
      "MPCLFKTGQINGDLLIYHVLLTLKPYYAKPYEIVVDLTHTGPSNRFKTDFLSKWFVVFPGFAYDNVSAVYIYNCNSWVREYTKYHERLLTGLKGSKRLVFIDCPGKLAEHIEHEQQKLPAATLALEEDLKVFHNALKLAHKDTKVSIKVGSTAVQVTSAERTKVLGQSVFLNDIYYASEIEEICLVDENQFTLTIANQGTPLTFMHQECEAIVQSIIHIRTRWELSQPDSIPQHTKIRPKDVPGTLLNIALLNLGSSDPSLRSAAYNLLCALTCTFNLKIEGQLLETSGLCIPANNTLFIVSISKTLAANEPHLTLEFLEECISGFSKSSIELKHLCLEYMTPWLSNLVRFCKHNDDAKRQRVTAILDKLITMTINEKQMYPSIQAKIWGSLGQITDLLDVVLDSFIKTSATGGLGSIKAEVMADTAVALASGNVKLVSSKVIGRMCKIIDKTCLSPTPTLEQHLMWDDIAILARYMLMLSFNNSLDVAAHLPYLFHVVTFLVATEETKQVLRLSLTEFSLPKFYLLFGISKVKSAAVIAFRSSYRDRSFSPGSYERETFALTSLETVTEALLEIMEDSPLHKALFWVAVAVLQLDEVNLYSAGTALLEQNLHTLDSLRIFNDKHLSSGHFLRENIKASTEVGEMAKQYIEKSLLVPDHVITRLMMSELENRRGQHWLLDGFPRTLGQAEALDKICEVDLVISLNIPFETLKDRLSRRWIHPPSGRVYNLDFNPPHVHGIDDVTGEPLVQQEDDKPEAVAARLRQYKDVAKPVIELYKSRGVLHQFSGTETNKIWPYVYTLFSNKITPIQSKEAY\n",
      "\n",
      "MMKFIPAALKICIPSSPIMTVPRYRHPSPAIVARTVRILHTLLTLVNKHRNCDKFEVNTQSVAYLAALLTVSEEVRSRCSLKHRKSLLLTDISMENVPMDTYPIHHGDPSYRTLKETQPWSSPKGSEGYLAATYPTVGQTSPRARKSMSLDMGQPSQANTKKLLGTRKSFDHLISDTKAPKRQEMESGITTPPKMRRVAETDYEMETQRISSSQQHPHLRKVSVSESNVLLDEEVLTDPKIQALLLTVLATLVKYTTDEFDQRILYEYLAEASVVFPKVFPVVHNLLDSKINTLLSLCQDPNLLNPIHGIVQSVVYHEESPPQYQTSYLQSFGFNGLWRFAGPFSKQTQIPDYAELIVKFLDALIDTYLPGIDEETSEESLLTPTSPYPPALQSQLSITANLNLSNSMTSLATSQHSPECVPVVKRHMTAMKFSPGRKRRSNWLFSFSPGIDKENVELSPTTGHCNSGRTRHGSASQVQKQRSAGSFKRNSIKKIV\n"
     ]
    }
   ],
   "source": [
    "print(*genscan_output_neurofibromin.cds_list, sep='\\n\\n')"
   ]
  },
  {
   "cell_type": "markdown",
   "metadata": {},
   "source": [
    "**Intron coordinates:**"
   ]
  },
  {
   "cell_type": "code",
   "execution_count": 8,
   "metadata": {
    "ExecuteTime": {
     "end_time": "2022-03-29T20:02:45.521512Z",
     "start_time": "2022-03-29T20:02:45.514849Z"
    }
   },
   "outputs": [
    {
     "name": "stdout",
     "output_type": "stream",
     "text": [
      "('178153', '178158')\n",
      "\n",
      "('178310', '178305')\n",
      "\n",
      "('201623', '201584')\n",
      "\n",
      "('201698', '201693')\n",
      "\n",
      "('225597', '225558')\n",
      "\n",
      "('226591', '226630')\n",
      "\n",
      "('252323', '252328')\n",
      "\n",
      "('252544', '252583')\n",
      "\n",
      "('280755', '280760')\n"
     ]
    }
   ],
   "source": [
    "print(*genscan_output_neurofibromin.intron_list, sep='\\n\\n')"
   ]
  },
  {
   "cell_type": "markdown",
   "metadata": {},
   "source": [
    "**Exon coordinates:**"
   ]
  },
  {
   "cell_type": "code",
   "execution_count": 9,
   "metadata": {
    "ExecuteTime": {
     "end_time": "2022-03-29T20:02:45.536551Z",
     "start_time": "2022-03-29T20:02:45.525593Z"
    },
    "scrolled": false
   },
   "outputs": [
    {
     "name": "stdout",
     "output_type": "stream",
     "text": [
      "('427', '486')\n",
      "\n",
      "('35748', '36086')\n",
      "\n",
      "('61100', '61243')\n",
      "\n",
      "('68303', '68493')\n",
      "\n",
      "('75008', '75114')\n",
      "\n",
      "('86539', '86606')\n",
      "\n",
      "('86827', '86902')\n",
      "\n",
      "('87625', '87782')\n",
      "\n",
      "('89844', '90062')\n",
      "\n",
      "('90329', '90356')\n",
      "\n",
      "('90791', '90997')\n",
      "\n",
      "('91195', '91283')\n",
      "\n",
      "('93179', '93335')\n",
      "\n",
      "('93962', '94053')\n",
      "\n",
      "('105539', '105712')\n",
      "\n",
      "('106154', '106276')\n",
      "\n",
      "('106528', '106602')\n",
      "\n",
      "('111357', '111488')\n",
      "\n",
      "('119568', '119702')\n",
      "\n",
      "('124122', '124235')\n",
      "\n",
      "('130212', '130367')\n",
      "\n",
      "('131552', '131801')\n",
      "\n",
      "('132335', '132408')\n",
      "\n",
      "('132640', '132723')\n",
      "\n",
      "('134142', '134582')\n",
      "\n",
      "('134952', '135091')\n",
      "\n",
      "('135377', '135499')\n",
      "\n",
      "('135959', '136042')\n",
      "\n",
      "('137190', '137306')\n",
      "\n",
      "('137817', '137998')\n",
      "\n",
      "('138119', '138330')\n",
      "\n",
      "('140728', '140889')\n",
      "\n",
      "('141035', '141138')\n",
      "\n",
      "('149707', '149823')\n",
      "\n",
      "('154101', '154236')\n",
      "\n",
      "('163461', '163619')\n",
      "\n",
      "('164149', '164246')\n",
      "\n",
      "('165486', '165632')\n",
      "\n",
      "('166828', '166974')\n",
      "\n",
      "('170346', '170456')\n",
      "\n",
      "('177762', '177861')\n",
      "\n",
      "('201139', '200126')\n",
      "\n",
      "('210597', '209380')\n",
      "\n",
      "('219161', '219096')\n",
      "\n",
      "('219582', '219488')\n",
      "\n",
      "('224130', '223425')\n",
      "\n",
      "('229474', '229484')\n",
      "\n",
      "('230937', '231369')\n",
      "\n",
      "('232616', '232956')\n",
      "\n",
      "('235413', '235615')\n",
      "\n",
      "('239955', '240148')\n",
      "\n",
      "('241450', '241590')\n",
      "\n",
      "('241752', '241944')\n",
      "\n",
      "('242485', '242699')\n",
      "\n",
      "('245622', '245762')\n",
      "\n",
      "('250732', '251307')\n",
      "\n",
      "('252681', '252747')\n",
      "\n",
      "('254237', '254368')\n",
      "\n",
      "('255300', '255435')\n",
      "\n",
      "('257374', '257531')\n",
      "\n",
      "('261577', '261699')\n",
      "\n",
      "('262077', '262207')\n",
      "\n",
      "('262386', '262486')\n",
      "\n",
      "('263597', '263739')\n",
      "\n",
      "('264086', '264132')\n",
      "\n",
      "('265604', '265820')\n",
      "\n",
      "('279037', '279272')\n"
     ]
    }
   ],
   "source": [
    "print(*genscan_output_neurofibromin.exon_list, sep='\\n\\n')"
   ]
  },
  {
   "cell_type": "markdown",
   "metadata": {},
   "source": [
    "### Testing on `insulin.fa`"
   ]
  },
  {
   "cell_type": "code",
   "execution_count": 10,
   "metadata": {
    "ExecuteTime": {
     "end_time": "2022-03-29T20:02:46.229205Z",
     "start_time": "2022-03-29T20:02:45.540088Z"
    }
   },
   "outputs": [],
   "source": [
    "genscan_output_insulin = run_genscan(sequence=None, \n",
    "                                     sequence_file='../data/insulin.fa', \n",
    "                                     organism=\"Vertebrate\", \n",
    "                                     exon_cutoff=1.00, \n",
    "                                     sequence_name=\"insulin\",\n",
    "                                     print_options='Predicted peptides only')"
   ]
  },
  {
   "cell_type": "markdown",
   "metadata": {},
   "source": [
    "**That's like looks browser version for our response:**"
   ]
  },
  {
   "cell_type": "code",
   "execution_count": 11,
   "metadata": {
    "ExecuteTime": {
     "end_time": "2022-03-29T20:02:46.253476Z",
     "start_time": "2022-03-29T20:02:46.235438Z"
    }
   },
   "outputs": [
    {
     "data": {
      "text/html": [
       "\n",
       "<head><title>GENSCAN Output</title>\n",
       "<style type=\"text/css\">\n",
       "hr {color:darkblue}\n",
       "p {margin-left:20px}\n",
       "body {font-family: helvetica, arial}\n",
       "blockquote { border: 5px solid black; padding: 5px 5px 5px}\n",
       "</style>\n",
       "</head>\n",
       "<body BGCOLOR=\"#00336677\" link=\"#FFFF00\" vlink=\"#77FFFF77\" alink=\"#FFFF00\" text=\"#FFFFFF\">\n",
       "\n",
       "<h2>GENSCAN Output</h2>\n",
       "<blockquote>\n",
       "View gene model output: <a href=\"../03_29_22-16:02:45.ps\">PS</a> | <a href=\"../03_29_22-16:02:45.pdf\">PDF</a>\n",
       "<pre>\n",
       "GENSCAN 1.0\tDate run: 29-Mar-122\tTime: 16:02:45\n",
       "\n",
       "\n",
       "\n",
       "Sequence /tmp/03_29_22-16:02:45.fasta : 1475 bp : 64.63% C+G : Isochore 4 (57 - 100 C+G%)\n",
       "\n",
       "\n",
       "\n",
       "Parameter matrix: HumanIso.smat\n",
       "\n",
       "\n",
       "\n",
       "Predicted genes/exons:\n",
       "\n",
       "\n",
       "\n",
       "Gn.Ex Type S .Begin ...End .Len Fr Ph I/Ac Do/T CodRg P.... Tscr..\n",
       "\n",
       "----- ---- - ------ ------ ---- -- -- ---- ---- ----- ----- ------\n",
       "\n",
       "\n",
       "\n",
       " 1.01 Init +    283    469  187  0  1   85   84   314 0.984  28.07\n",
       "\n",
       " 1.02 Term +   1257   1402  146  1  2   48   42   185 0.994   8.92\n",
       "\n",
       " 1.03 PlyA +   1456   1461    6                               1.05\n",
       "\n",
       "\n",
       "\n",
       "\n",
       "\n",
       "Suboptimal exons with probability > 1.000\n",
       "\n",
       "\n",
       "\n",
       "Exnum Type S .Begin ...End .Len Fr Ph B/Ac Do/T CodRg P.... Tscr..\n",
       "\n",
       "----- ---- - ------ ------ ---- -- -- ---- ---- ----- ----- ------\n",
       "\n",
       "\n",
       "\n",
       "\n",
       "\n",
       "NO EXONS FOUND AT GIVEN PROBABILITY CUTOFF\n",
       "\n",
       "\n",
       "\n",
       "\n",
       "\n",
       "Predicted peptide sequence(s):\n",
       "\n",
       "\n",
       "\n",
       "\n",
       "\n",
       ">/tmp/03_29_22-16:02:45.fasta|GENSCAN_predicted_peptide_1|110_aa\n",
       "\n",
       "MALWMRLLPLLALLALWGPDPAAAFVNQHLCGSHLVEALYLVCGERGFFYTPKTRREAED\n",
       "\n",
       "LQVGQVELGGGPGAGSLQPLALEGSLQKRGIVEQCCTSICSLYQLENYCN\n",
       "\n",
       "</pre>\n",
       "</blockquote>\n",
       "\n",
       "<hr noshade>\n",
       "\n",
       "\n",
       "<p><a href=\"http://argonaute.mit.edu/GENSCAN.html\">Back to GENSCAN</a>\n",
       "</body>\n",
       "</html>\n",
       "\n"
      ],
      "text/plain": [
       "<IPython.core.display.HTML object>"
      ]
     },
     "execution_count": 11,
     "metadata": {},
     "output_type": "execute_result"
    }
   ],
   "source": [
    "HTML(data=genscan_output_insulin.resp.text)"
   ]
  },
  {
   "cell_type": "markdown",
   "metadata": {},
   "source": [
    "**Status code:**"
   ]
  },
  {
   "cell_type": "code",
   "execution_count": 12,
   "metadata": {
    "ExecuteTime": {
     "end_time": "2022-03-29T20:02:46.265714Z",
     "start_time": "2022-03-29T20:02:46.258817Z"
    }
   },
   "outputs": [
    {
     "data": {
      "text/plain": [
       "200"
      ]
     },
     "execution_count": 12,
     "metadata": {},
     "output_type": "execute_result"
    }
   ],
   "source": [
    "genscan_output_insulin.status"
   ]
  },
  {
   "cell_type": "markdown",
   "metadata": {},
   "source": [
    "**Coding sequences:**"
   ]
  },
  {
   "cell_type": "code",
   "execution_count": 13,
   "metadata": {
    "ExecuteTime": {
     "end_time": "2022-03-29T20:02:46.271094Z",
     "start_time": "2022-03-29T20:02:46.267462Z"
    }
   },
   "outputs": [
    {
     "name": "stdout",
     "output_type": "stream",
     "text": [
      "MALWMRLLPLLALLALWGPDPAAAFVNQHLCGSHLVEALYLVCGERGFFYTPKTRREAEDLQVGQVELGGGPGAGSLQPLALEGSLQKRGIVEQCCTSICSLYQLENYCN\n"
     ]
    }
   ],
   "source": [
    "print(*genscan_output_insulin.cds_list, sep='\\n\\n')"
   ]
  },
  {
   "cell_type": "markdown",
   "metadata": {
    "ExecuteTime": {
     "end_time": "2022-03-29T18:32:40.388758Z",
     "start_time": "2022-03-29T18:32:40.377788Z"
    }
   },
   "source": [
    "**Intron coordinates:**"
   ]
  },
  {
   "cell_type": "code",
   "execution_count": 14,
   "metadata": {
    "ExecuteTime": {
     "end_time": "2022-03-29T20:02:46.277032Z",
     "start_time": "2022-03-29T20:02:46.273399Z"
    }
   },
   "outputs": [
    {
     "name": "stdout",
     "output_type": "stream",
     "text": [
      "('1456', '1461')\n"
     ]
    }
   ],
   "source": [
    "print(*genscan_output_insulin.intron_list, sep='\\n\\n')"
   ]
  },
  {
   "cell_type": "markdown",
   "metadata": {},
   "source": [
    "**Exon coordinates:**"
   ]
  },
  {
   "cell_type": "code",
   "execution_count": 15,
   "metadata": {
    "ExecuteTime": {
     "end_time": "2022-03-29T20:02:46.282649Z",
     "start_time": "2022-03-29T20:02:46.279117Z"
    }
   },
   "outputs": [
    {
     "name": "stdout",
     "output_type": "stream",
     "text": [
      "('283', '469')\n",
      "\n",
      "('1257', '1402')\n"
     ]
    }
   ],
   "source": [
    "print(*genscan_output_insulin.exon_list, sep='\\n\\n')"
   ]
  },
  {
   "cell_type": "markdown",
   "metadata": {
    "ExecuteTime": {
     "end_time": "2022-03-29T18:35:44.108150Z",
     "start_time": "2022-03-29T18:35:44.100850Z"
    }
   },
   "source": [
    "### Testing on `nlrp3.fa`"
   ]
  },
  {
   "cell_type": "code",
   "execution_count": 16,
   "metadata": {
    "ExecuteTime": {
     "end_time": "2022-03-29T20:02:47.678136Z",
     "start_time": "2022-03-29T20:02:46.284355Z"
    }
   },
   "outputs": [],
   "source": [
    "genscan_output_nlrp3 = run_genscan(sequence=None, \n",
    "                                   sequence_file='../data/nlrp3.fa', \n",
    "                                   organism=\"Vertebrate\", \n",
    "                                   exon_cutoff=1.00, \n",
    "                                   sequence_name=\"NLRP3\",\n",
    "                                   print_options='Predicted peptides only')"
   ]
  },
  {
   "cell_type": "markdown",
   "metadata": {},
   "source": [
    "**That's like looks browser version for our response:**"
   ]
  },
  {
   "cell_type": "code",
   "execution_count": 17,
   "metadata": {
    "ExecuteTime": {
     "end_time": "2022-03-29T20:02:47.697329Z",
     "start_time": "2022-03-29T20:02:47.684614Z"
    },
    "scrolled": false
   },
   "outputs": [
    {
     "data": {
      "text/html": [
       "\n",
       "<head><title>GENSCAN Output</title>\n",
       "<style type=\"text/css\">\n",
       "hr {color:darkblue}\n",
       "p {margin-left:20px}\n",
       "body {font-family: helvetica, arial}\n",
       "blockquote { border: 5px solid black; padding: 5px 5px 5px}\n",
       "</style>\n",
       "</head>\n",
       "<body BGCOLOR=\"#00336677\" link=\"#FFFF00\" vlink=\"#77FFFF77\" alink=\"#FFFF00\" text=\"#FFFFFF\">\n",
       "\n",
       "<h2>GENSCAN Output</h2>\n",
       "<blockquote>\n",
       "View gene model output: <a href=\"../03_29_22-16:02:46.ps\">PS</a> | <a href=\"../03_29_22-16:02:46.pdf\">PDF</a>\n",
       "<pre>\n",
       "GENSCAN 1.0\tDate run: 29-Mar-122\tTime: 16:02:47\n",
       "\n",
       "\n",
       "\n",
       "Sequence /tmp/03_29_22-16:02:46.fasta : 32704 bp : 46.87% C+G : Isochore 2 (43 - 51 C+G%)\n",
       "\n",
       "\n",
       "\n",
       "Parameter matrix: HumanIso.smat\n",
       "\n",
       "\n",
       "\n",
       "Predicted genes/exons:\n",
       "\n",
       "\n",
       "\n",
       "Gn.Ex Type S .Begin ...End .Len Fr Ph I/Ac Do/T CodRg P.... Tscr..\n",
       "\n",
       "----- ---- - ------ ------ ---- -- -- ---- ---- ----- ----- ------\n",
       "\n",
       "\n",
       "\n",
       " 1.01 Init +   2682   2958  277  2  1   70   84   321 0.818  27.05\n",
       "\n",
       " 1.02 Intr +   7111   7230  120  2  0  141  121    29 0.999  11.97\n",
       "\n",
       " 1.03 Intr +   7728   9480 1753  1  1   82   82  1754 0.709 161.52\n",
       "\n",
       " 1.04 Intr +  13466  13636  171  2  0   98   89    22 0.621   2.36\n",
       "\n",
       " 1.05 Intr +  17984  18154  171  2  0   43  105   226 0.981  18.86\n",
       "\n",
       " 1.06 Intr +  19851  20021  171  0  0   55   98    40 0.505   0.76\n",
       "\n",
       " 1.07 Intr +  27853  28023  171  1  0  119   83    46 0.916   6.26\n",
       "\n",
       " 1.08 Intr +  28532  28702  171  2  0   77   84   134 0.788  10.96\n",
       "\n",
       " 1.09 Term +  32286  32385  100  0  1   82   49    84 0.026   1.50\n",
       "\n",
       " 1.10 PlyA +  32677  32682    6                               1.05\n",
       "\n",
       "\n",
       "\n",
       "\n",
       "\n",
       "Suboptimal exons with probability > 1.000\n",
       "\n",
       "\n",
       "\n",
       "Exnum Type S .Begin ...End .Len Fr Ph B/Ac Do/T CodRg P.... Tscr..\n",
       "\n",
       "----- ---- - ------ ------ ---- -- -- ---- ---- ----- ----- ------\n",
       "\n",
       "\n",
       "\n",
       "\n",
       "\n",
       "NO EXONS FOUND AT GIVEN PROBABILITY CUTOFF\n",
       "\n",
       "\n",
       "\n",
       "\n",
       "\n",
       "Predicted peptide sequence(s):\n",
       "\n",
       "\n",
       "\n",
       "\n",
       "\n",
       ">/tmp/03_29_22-16:02:46.fasta|GENSCAN_predicted_peptide_1|1034_aa\n",
       "\n",
       "MASTRCKLARYLEDLEDVDLKKFKMHLEDYPPQKGCIPLPRGQTEKADHVDLATLMIDFN\n",
       "\n",
       "GEEKAWAMAVWIFAAINRRDLYEKAKRDEPKWGSDNARVSNPTVICQEDSIEEEWMGLLE\n",
       "\n",
       "YLSRISICKMKKDYRKKYRKYVRSRFQCIEDRNARLGESVSLNKRYTRLRLIKEHRSQQE\n",
       "\n",
       "REQELLAIGKTKTCESPVSPIKMELLFDPDDEHSEPVHTVVFQGAAGIGKTILARKMMLD\n",
       "\n",
       "WASGTLYQDRFDYLFYIHCREVSLVTQRSLGDLIMSCCPDPNPPIHKIVRKPSRILFLMD\n",
       "\n",
       "GFDELQGAFDEHIGPLCTDWQKAERGDILLSSLIRKKLLPEASLLITTRPVALEKLQHLL\n",
       "\n",
       "DHPRHVEILGFSEAKRKEYFFKYFSDEAQARAAFSLIQENEVLFTMCFIPLVCWIVCTGL\n",
       "\n",
       "KQQMESGKSLAQTSKTTTAVYVFFLSSLLQPRGGSQEHGLCAHLWGLCSLAADGIWNQKI\n",
       "\n",
       "LFEESDLRNHGLQKADVSAFLRMNLFQKEVDCEKFYSFIHMTFQEFFAAMYYLLEEEKEG\n",
       "\n",
       "RTNVPGSRLKLPSRDVTVLLENYGKFEKGYLIFVVRFLFGLVNQERTSYLEKKLSCKISQ\n",
       "\n",
       "QIRLELLKWIEVKAKAKKLQIQPSQLELFYCLYEMQEEDFVQRAMDYFPKIEINLSTRMD\n",
       "\n",
       "HMVSSFCIENCHRVESLSLGFLHNMPKEEEEEEKEGRHLDMVQCVLPSSSHAACSHGLVN\n",
       "\n",
       "SHLTSSFCRGLFSVLSTSQSLTELDLSDNSLGDPGMRVLCETLQHPGCNIRRLWLGRCGL\n",
       "\n",
       "SHECCFDISLVLSSNQKLVELDLSDNALGDFGIRLLCVGLKHLLCNLKKLWLVSCCLTSA\n",
       "\n",
       "CCQDLASVLSTSHSLTRLYVGENALGDSGVAILCEKAKNPQCNLQKLGLVNSGLTSVCCS\n",
       "\n",
       "ALSSVLSTNQNLTHLYLRGNTLGDKGIKLLCEGLLHPDCKLQVLELDNCNLTSHCCWDLS\n",
       "\n",
       "TLLTSSQSLRKLSLGNNDLGDLGVMMFCEVLKQQSCLLQNLGLSEMYFNYETKSALETLQ\n",
       "\n",
       "EEKPELTVVFEPSW\n",
       "\n",
       "</pre>\n",
       "</blockquote>\n",
       "\n",
       "<hr noshade>\n",
       "\n",
       "\n",
       "<p><a href=\"http://argonaute.mit.edu/GENSCAN.html\">Back to GENSCAN</a>\n",
       "</body>\n",
       "</html>\n",
       "\n"
      ],
      "text/plain": [
       "<IPython.core.display.HTML object>"
      ]
     },
     "execution_count": 17,
     "metadata": {},
     "output_type": "execute_result"
    }
   ],
   "source": [
    "HTML(data=genscan_output_nlrp3.resp.text)"
   ]
  },
  {
   "cell_type": "markdown",
   "metadata": {},
   "source": [
    "**Status code:**"
   ]
  },
  {
   "cell_type": "code",
   "execution_count": 18,
   "metadata": {
    "ExecuteTime": {
     "end_time": "2022-03-29T20:02:47.712431Z",
     "start_time": "2022-03-29T20:02:47.703446Z"
    }
   },
   "outputs": [
    {
     "data": {
      "text/plain": [
       "200"
      ]
     },
     "execution_count": 18,
     "metadata": {},
     "output_type": "execute_result"
    }
   ],
   "source": [
    "genscan_output_nlrp3.status"
   ]
  },
  {
   "cell_type": "markdown",
   "metadata": {},
   "source": [
    "**Coding sequences:**"
   ]
  },
  {
   "cell_type": "code",
   "execution_count": 19,
   "metadata": {
    "ExecuteTime": {
     "end_time": "2022-03-29T20:02:47.722429Z",
     "start_time": "2022-03-29T20:02:47.715545Z"
    }
   },
   "outputs": [
    {
     "name": "stdout",
     "output_type": "stream",
     "text": [
      "MASTRCKLARYLEDLEDVDLKKFKMHLEDYPPQKGCIPLPRGQTEKADHVDLATLMIDFNGEEKAWAMAVWIFAAINRRDLYEKAKRDEPKWGSDNARVSNPTVICQEDSIEEEWMGLLEYLSRISICKMKKDYRKKYRKYVRSRFQCIEDRNARLGESVSLNKRYTRLRLIKEHRSQQEREQELLAIGKTKTCESPVSPIKMELLFDPDDEHSEPVHTVVFQGAAGIGKTILARKMMLDWASGTLYQDRFDYLFYIHCREVSLVTQRSLGDLIMSCCPDPNPPIHKIVRKPSRILFLMDGFDELQGAFDEHIGPLCTDWQKAERGDILLSSLIRKKLLPEASLLITTRPVALEKLQHLLDHPRHVEILGFSEAKRKEYFFKYFSDEAQARAAFSLIQENEVLFTMCFIPLVCWIVCTGLKQQMESGKSLAQTSKTTTAVYVFFLSSLLQPRGGSQEHGLCAHLWGLCSLAADGIWNQKILFEESDLRNHGLQKADVSAFLRMNLFQKEVDCEKFYSFIHMTFQEFFAAMYYLLEEEKEGRTNVPGSRLKLPSRDVTVLLENYGKFEKGYLIFVVRFLFGLVNQERTSYLEKKLSCKISQQIRLELLKWIEVKAKAKKLQIQPSQLELFYCLYEMQEEDFVQRAMDYFPKIEINLSTRMDHMVSSFCIENCHRVESLSLGFLHNMPKEEEEEEKEGRHLDMVQCVLPSSSHAACSHGLVNSHLTSSFCRGLFSVLSTSQSLTELDLSDNSLGDPGMRVLCETLQHPGCNIRRLWLGRCGLSHECCFDISLVLSSNQKLVELDLSDNALGDFGIRLLCVGLKHLLCNLKKLWLVSCCLTSACCQDLASVLSTSHSLTRLYVGENALGDSGVAILCEKAKNPQCNLQKLGLVNSGLTSVCCSALSSVLSTNQNLTHLYLRGNTLGDKGIKLLCEGLLHPDCKLQVLELDNCNLTSHCCWDLSTLLTSSQSLRKLSLGNNDLGDLGVMMFCEVLKQQSCLLQNLGLSEMYFNYETKSALETLQEEKPELTVVFEPSW\n"
     ]
    }
   ],
   "source": [
    "print(*genscan_output_nlrp3.cds_list, sep='\\n\\n')"
   ]
  },
  {
   "cell_type": "markdown",
   "metadata": {},
   "source": [
    "**Intron coordinates:**"
   ]
  },
  {
   "cell_type": "code",
   "execution_count": 20,
   "metadata": {
    "ExecuteTime": {
     "end_time": "2022-03-29T20:02:47.730247Z",
     "start_time": "2022-03-29T20:02:47.725570Z"
    }
   },
   "outputs": [
    {
     "name": "stdout",
     "output_type": "stream",
     "text": [
      "('32677', '32682')\n"
     ]
    }
   ],
   "source": [
    "print(*genscan_output_nlrp3.intron_list, sep='\\n\\n')"
   ]
  },
  {
   "cell_type": "markdown",
   "metadata": {},
   "source": [
    "**Exon coordinates:**"
   ]
  },
  {
   "cell_type": "code",
   "execution_count": 21,
   "metadata": {
    "ExecuteTime": {
     "end_time": "2022-03-29T20:02:47.737161Z",
     "start_time": "2022-03-29T20:02:47.732593Z"
    }
   },
   "outputs": [
    {
     "name": "stdout",
     "output_type": "stream",
     "text": [
      "('2682', '2958')\n",
      "\n",
      "('7111', '7230')\n",
      "\n",
      "('7728', '9480')\n",
      "\n",
      "('13466', '13636')\n",
      "\n",
      "('17984', '18154')\n",
      "\n",
      "('19851', '20021')\n",
      "\n",
      "('27853', '28023')\n",
      "\n",
      "('28532', '28702')\n",
      "\n",
      "('32286', '32385')\n"
     ]
    }
   ],
   "source": [
    "print(*genscan_output_nlrp3.exon_list, sep='\\n\\n')"
   ]
  }
 ],
 "metadata": {
  "kernelspec": {
   "display_name": "Python 3 (ipykernel)",
   "language": "python",
   "name": "python3"
  },
  "language_info": {
   "codemirror_mode": {
    "name": "ipython",
    "version": 3
   },
   "file_extension": ".py",
   "mimetype": "text/x-python",
   "name": "python",
   "nbconvert_exporter": "python",
   "pygments_lexer": "ipython3",
   "version": "3.7.6"
  },
  "varInspector": {
   "cols": {
    "lenName": 16,
    "lenType": 16,
    "lenVar": 40
   },
   "kernels_config": {
    "python": {
     "delete_cmd_postfix": "",
     "delete_cmd_prefix": "del ",
     "library": "var_list.py",
     "varRefreshCmd": "print(var_dic_list())"
    },
    "r": {
     "delete_cmd_postfix": ") ",
     "delete_cmd_prefix": "rm(",
     "library": "var_list.r",
     "varRefreshCmd": "cat(var_dic_list()) "
    }
   },
   "types_to_exclude": [
    "module",
    "function",
    "builtin_function_or_method",
    "instance",
    "_Feature"
   ],
   "window_display": false
  }
 },
 "nbformat": 4,
 "nbformat_minor": 4
}
