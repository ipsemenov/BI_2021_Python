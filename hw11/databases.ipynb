{
 "cells": [
  {
   "cell_type": "code",
   "execution_count": 1,
   "metadata": {
    "ExecuteTime": {
     "end_time": "2022-03-17T21:35:36.932795Z",
     "start_time": "2022-03-17T21:35:36.784953Z"
    }
   },
   "outputs": [],
   "source": [
    "import pandas as pd\n",
    "import sqlite3\n",
    "import warnings \n",
    "from IPython.display import display\n",
    "warnings.simplefilter('ignore')"
   ]
  },
  {
   "cell_type": "markdown",
   "metadata": {},
   "source": [
    "### Look at our dataframes"
   ]
  },
  {
   "cell_type": "code",
   "execution_count": 2,
   "metadata": {
    "ExecuteTime": {
     "end_time": "2022-03-17T21:35:41.803479Z",
     "start_time": "2022-03-17T21:35:37.869965Z"
    }
   },
   "outputs": [
    {
     "name": "stdout",
     "output_type": "stream",
     "text": [
      "metadata shape: (841, 4)\n",
      "genstudio shape: (2000000, 20)\n"
     ]
    },
    {
     "data": {
      "text/html": [
       "<div>\n",
       "<style scoped>\n",
       "    .dataframe tbody tr th:only-of-type {\n",
       "        vertical-align: middle;\n",
       "    }\n",
       "\n",
       "    .dataframe tbody tr th {\n",
       "        vertical-align: top;\n",
       "    }\n",
       "\n",
       "    .dataframe thead th {\n",
       "        text-align: right;\n",
       "    }\n",
       "</style>\n",
       "<table border=\"1\" class=\"dataframe\">\n",
       "  <thead>\n",
       "    <tr style=\"text-align: right;\">\n",
       "      <th></th>\n",
       "      <th>Unnamed: 0</th>\n",
       "      <th>dna_chip_id</th>\n",
       "      <th>breed</th>\n",
       "      <th>sex</th>\n",
       "    </tr>\n",
       "  </thead>\n",
       "  <tbody>\n",
       "    <tr>\n",
       "      <th>0</th>\n",
       "      <td>0</td>\n",
       "      <td>202290551164R09C01</td>\n",
       "      <td>Д</td>\n",
       "      <td>Хр</td>\n",
       "    </tr>\n",
       "    <tr>\n",
       "      <th>1</th>\n",
       "      <td>1</td>\n",
       "      <td>202341831114R02C01</td>\n",
       "      <td>Д</td>\n",
       "      <td>Хр</td>\n",
       "    </tr>\n",
       "    <tr>\n",
       "      <th>2</th>\n",
       "      <td>2</td>\n",
       "      <td>202341831114R03C01</td>\n",
       "      <td>Д</td>\n",
       "      <td>Хр</td>\n",
       "    </tr>\n",
       "    <tr>\n",
       "      <th>3</th>\n",
       "      <td>3</td>\n",
       "      <td>202341831114R04C01</td>\n",
       "      <td>Д</td>\n",
       "      <td>Хр</td>\n",
       "    </tr>\n",
       "    <tr>\n",
       "      <th>4</th>\n",
       "      <td>4</td>\n",
       "      <td>202290551140R01C01</td>\n",
       "      <td>Д</td>\n",
       "      <td>Хр</td>\n",
       "    </tr>\n",
       "  </tbody>\n",
       "</table>\n",
       "</div>"
      ],
      "text/plain": [
       "   Unnamed: 0         dna_chip_id breed sex\n",
       "0           0  202290551164R09C01     Д  Хр\n",
       "1           1  202341831114R02C01     Д  Хр\n",
       "2           2  202341831114R03C01     Д  Хр\n",
       "3           3  202341831114R04C01     Д  Хр\n",
       "4           4  202290551140R01C01     Д  Хр"
      ]
     },
     "metadata": {},
     "output_type": "display_data"
    },
    {
     "data": {
      "text/html": [
       "<div>\n",
       "<style scoped>\n",
       "    .dataframe tbody tr th:only-of-type {\n",
       "        vertical-align: middle;\n",
       "    }\n",
       "\n",
       "    .dataframe tbody tr th {\n",
       "        vertical-align: top;\n",
       "    }\n",
       "\n",
       "    .dataframe thead th {\n",
       "        text-align: right;\n",
       "    }\n",
       "</style>\n",
       "<table border=\"1\" class=\"dataframe\">\n",
       "  <thead>\n",
       "    <tr style=\"text-align: right;\">\n",
       "      <th></th>\n",
       "      <th>Unnamed: 0</th>\n",
       "      <th>SNP Name</th>\n",
       "      <th>SNP Index</th>\n",
       "      <th>SNP Aux</th>\n",
       "      <th>Sample ID</th>\n",
       "      <th>SNP</th>\n",
       "      <th>Allele1 - Top</th>\n",
       "      <th>Allele2 - Top</th>\n",
       "      <th>Allele1 - Forward</th>\n",
       "      <th>Allele2 - Forward</th>\n",
       "      <th>Allele1 - AB</th>\n",
       "      <th>Allele2 - AB</th>\n",
       "      <th>Chr</th>\n",
       "      <th>Position</th>\n",
       "      <th>GC Score</th>\n",
       "      <th>GT Score</th>\n",
       "      <th>Theta</th>\n",
       "      <th>R</th>\n",
       "      <th>B Allele Freq</th>\n",
       "      <th>Log R Ratio</th>\n",
       "    </tr>\n",
       "  </thead>\n",
       "  <tbody>\n",
       "    <tr>\n",
       "      <th>0</th>\n",
       "      <td>0</td>\n",
       "      <td>1_10573221</td>\n",
       "      <td>1</td>\n",
       "      <td>0</td>\n",
       "      <td>202341831114R01C01</td>\n",
       "      <td>[T/C]</td>\n",
       "      <td>-</td>\n",
       "      <td>-</td>\n",
       "      <td>-</td>\n",
       "      <td>-</td>\n",
       "      <td>-</td>\n",
       "      <td>-</td>\n",
       "      <td>1</td>\n",
       "      <td>10573221</td>\n",
       "      <td>0.0000</td>\n",
       "      <td>0.0000</td>\n",
       "      <td>0.942</td>\n",
       "      <td>0.413</td>\n",
       "      <td>1.0000</td>\n",
       "      <td>0.4040</td>\n",
       "    </tr>\n",
       "    <tr>\n",
       "      <th>1</th>\n",
       "      <td>1</td>\n",
       "      <td>1_10673082</td>\n",
       "      <td>2</td>\n",
       "      <td>0</td>\n",
       "      <td>202341831114R01C01</td>\n",
       "      <td>[T/C]</td>\n",
       "      <td>A</td>\n",
       "      <td>A</td>\n",
       "      <td>T</td>\n",
       "      <td>T</td>\n",
       "      <td>A</td>\n",
       "      <td>A</td>\n",
       "      <td>1</td>\n",
       "      <td>10673082</td>\n",
       "      <td>0.8272</td>\n",
       "      <td>0.8076</td>\n",
       "      <td>0.039</td>\n",
       "      <td>0.968</td>\n",
       "      <td>0.0000</td>\n",
       "      <td>0.3017</td>\n",
       "    </tr>\n",
       "    <tr>\n",
       "      <th>2</th>\n",
       "      <td>2</td>\n",
       "      <td>1_10723065</td>\n",
       "      <td>3</td>\n",
       "      <td>0</td>\n",
       "      <td>202341831114R01C01</td>\n",
       "      <td>[A/G]</td>\n",
       "      <td>A</td>\n",
       "      <td>A</td>\n",
       "      <td>T</td>\n",
       "      <td>T</td>\n",
       "      <td>A</td>\n",
       "      <td>A</td>\n",
       "      <td>1</td>\n",
       "      <td>10723065</td>\n",
       "      <td>0.8316</td>\n",
       "      <td>0.8107</td>\n",
       "      <td>0.011</td>\n",
       "      <td>1.577</td>\n",
       "      <td>0.0000</td>\n",
       "      <td>0.0388</td>\n",
       "    </tr>\n",
       "    <tr>\n",
       "      <th>3</th>\n",
       "      <td>3</td>\n",
       "      <td>1_11337555</td>\n",
       "      <td>4</td>\n",
       "      <td>0</td>\n",
       "      <td>202341831114R01C01</td>\n",
       "      <td>[A/G]</td>\n",
       "      <td>A</td>\n",
       "      <td>A</td>\n",
       "      <td>T</td>\n",
       "      <td>T</td>\n",
       "      <td>A</td>\n",
       "      <td>A</td>\n",
       "      <td>1</td>\n",
       "      <td>11337555</td>\n",
       "      <td>0.3781</td>\n",
       "      <td>0.7925</td>\n",
       "      <td>0.045</td>\n",
       "      <td>1.104</td>\n",
       "      <td>0.0000</td>\n",
       "      <td>0.2761</td>\n",
       "    </tr>\n",
       "    <tr>\n",
       "      <th>4</th>\n",
       "      <td>4</td>\n",
       "      <td>1_11407894</td>\n",
       "      <td>5</td>\n",
       "      <td>0</td>\n",
       "      <td>202341831114R01C01</td>\n",
       "      <td>[A/G]</td>\n",
       "      <td>G</td>\n",
       "      <td>G</td>\n",
       "      <td>G</td>\n",
       "      <td>G</td>\n",
       "      <td>B</td>\n",
       "      <td>B</td>\n",
       "      <td>1</td>\n",
       "      <td>11407894</td>\n",
       "      <td>0.9038</td>\n",
       "      <td>0.8670</td>\n",
       "      <td>0.983</td>\n",
       "      <td>1.122</td>\n",
       "      <td>0.9994</td>\n",
       "      <td>0.0022</td>\n",
       "    </tr>\n",
       "  </tbody>\n",
       "</table>\n",
       "</div>"
      ],
      "text/plain": [
       "   Unnamed: 0    SNP Name  SNP Index  SNP Aux           Sample ID    SNP  \\\n",
       "0           0  1_10573221          1        0  202341831114R01C01  [T/C]   \n",
       "1           1  1_10673082          2        0  202341831114R01C01  [T/C]   \n",
       "2           2  1_10723065          3        0  202341831114R01C01  [A/G]   \n",
       "3           3  1_11337555          4        0  202341831114R01C01  [A/G]   \n",
       "4           4  1_11407894          5        0  202341831114R01C01  [A/G]   \n",
       "\n",
       "  Allele1 - Top Allele2 - Top Allele1 - Forward Allele2 - Forward  \\\n",
       "0             -             -                 -                 -   \n",
       "1             A             A                 T                 T   \n",
       "2             A             A                 T                 T   \n",
       "3             A             A                 T                 T   \n",
       "4             G             G                 G                 G   \n",
       "\n",
       "  Allele1 - AB Allele2 - AB Chr  Position  GC Score  GT Score  Theta      R  \\\n",
       "0            -            -   1  10573221    0.0000    0.0000  0.942  0.413   \n",
       "1            A            A   1  10673082    0.8272    0.8076  0.039  0.968   \n",
       "2            A            A   1  10723065    0.8316    0.8107  0.011  1.577   \n",
       "3            A            A   1  11337555    0.3781    0.7925  0.045  1.104   \n",
       "4            B            B   1  11407894    0.9038    0.8670  0.983  1.122   \n",
       "\n",
       "   B Allele Freq  Log R Ratio  \n",
       "0         1.0000       0.4040  \n",
       "1         0.0000       0.3017  \n",
       "2         0.0000       0.0388  \n",
       "3         0.0000       0.2761  \n",
       "4         0.9994       0.0022  "
      ]
     },
     "metadata": {},
     "output_type": "display_data"
    }
   ],
   "source": [
    "df_metadata = pd.read_csv('../data/metadata.csv')\n",
    "df_genstudio = pd.read_csv('../data/genstudio.csv')\n",
    "print('metadata shape:', df_metadata.shape)\n",
    "print('genstudio shape:', df_genstudio.shape)\n",
    "display(df_metadata.head(), df_genstudio.head())"
   ]
  },
  {
   "cell_type": "markdown",
   "metadata": {},
   "source": [
    "Column `Sample ID` contains the same values as `dna_chip_id` => we will use them to connect two tables"
   ]
  },
  {
   "cell_type": "code",
   "execution_count": 3,
   "metadata": {
    "ExecuteTime": {
     "end_time": "2022-03-17T21:35:45.272328Z",
     "start_time": "2022-03-17T21:35:45.074296Z"
    }
   },
   "outputs": [
    {
     "data": {
      "text/plain": [
       "True"
      ]
     },
     "execution_count": 3,
     "metadata": {},
     "output_type": "execute_result"
    }
   ],
   "source": [
    "all(df_genstudio['Sample ID'].isin(df_metadata['dna_chip_id']))"
   ]
  },
  {
   "cell_type": "markdown",
   "metadata": {},
   "source": [
    "### Create two databases"
   ]
  },
  {
   "cell_type": "code",
   "execution_count": 4,
   "metadata": {
    "ExecuteTime": {
     "end_time": "2022-03-17T21:35:46.873017Z",
     "start_time": "2022-03-17T21:35:46.851108Z"
    }
   },
   "outputs": [
    {
     "name": "stdout",
     "output_type": "stream",
     "text": [
      "<class 'pandas.core.frame.DataFrame'>\n",
      "RangeIndex: 841 entries, 0 to 840\n",
      "Data columns (total 4 columns):\n",
      " #   Column       Non-Null Count  Dtype \n",
      "---  ------       --------------  ----- \n",
      " 0   Unnamed: 0   841 non-null    int64 \n",
      " 1   dna_chip_id  841 non-null    object\n",
      " 2   breed        841 non-null    object\n",
      " 3   sex          841 non-null    object\n",
      "dtypes: int64(1), object(3)\n",
      "memory usage: 26.4+ KB\n"
     ]
    }
   ],
   "source": [
    "df_metadata.info()"
   ]
  },
  {
   "cell_type": "code",
   "execution_count": 5,
   "metadata": {
    "ExecuteTime": {
     "end_time": "2022-03-17T21:35:48.427679Z",
     "start_time": "2022-03-17T21:35:48.401110Z"
    }
   },
   "outputs": [
    {
     "name": "stdout",
     "output_type": "stream",
     "text": [
      "<class 'pandas.core.frame.DataFrame'>\n",
      "RangeIndex: 2000000 entries, 0 to 1999999\n",
      "Data columns (total 20 columns):\n",
      " #   Column             Dtype  \n",
      "---  ------             -----  \n",
      " 0   Unnamed: 0         int64  \n",
      " 1   SNP Name           object \n",
      " 2   SNP Index          int64  \n",
      " 3   SNP Aux            int64  \n",
      " 4   Sample ID          object \n",
      " 5   SNP                object \n",
      " 6   Allele1 - Top      object \n",
      " 7   Allele2 - Top      object \n",
      " 8   Allele1 - Forward  object \n",
      " 9   Allele2 - Forward  object \n",
      " 10  Allele1 - AB       object \n",
      " 11  Allele2 - AB       object \n",
      " 12  Chr                object \n",
      " 13  Position           object \n",
      " 14  GC Score           float64\n",
      " 15  GT Score           float64\n",
      " 16  Theta              float64\n",
      " 17  R                  float64\n",
      " 18  B Allele Freq      float64\n",
      " 19  Log R Ratio        float64\n",
      "dtypes: float64(6), int64(3), object(11)\n",
      "memory usage: 305.2+ MB\n"
     ]
    }
   ],
   "source": [
    "df_genstudio.info()"
   ]
  },
  {
   "cell_type": "code",
   "execution_count": 6,
   "metadata": {
    "ExecuteTime": {
     "end_time": "2022-03-17T21:35:50.283080Z",
     "start_time": "2022-03-17T21:35:50.260302Z"
    }
   },
   "outputs": [
    {
     "data": {
      "text/plain": [
       "<sqlite3.Cursor at 0x7fe0440c0260>"
      ]
     },
     "execution_count": 6,
     "metadata": {},
     "output_type": "execute_result"
    }
   ],
   "source": [
    "connection = sqlite3.connect('../data/my_database.db')\n",
    "create_metadata = '''CREATE TABLE metadata(\n",
    "                                Id INTEGER NOT NULL PRIMARY KEY AUTOINCREMENT,\n",
    "                                dna_chip_id TEXT,\n",
    "                                breed TEXT,\n",
    "                                sex TEXT)\n",
    "                  '''\n",
    "\n",
    "create_genstudio = '''CREATE TABLE genstudio(\n",
    "                                        Id INTEGER NOT NULL PRIMARY KEY AUTOINCREMENT,\n",
    "                                        SNP_name TEXT,\n",
    "                                        SNP_index INTEGER,\n",
    "                                        SNP_Aux INTEGER,\n",
    "                                        dna_chip_id TEXT,\n",
    "                                        SNP TEXT,\n",
    "                                        Allele1_Top TEXT,\n",
    "                                        Allele2_Top TEXT,\n",
    "                                        Allele1_Forward TEXT, \n",
    "                                        Allele2_Forward TEXT,\n",
    "                                        Allele1_AB TEXT,\n",
    "                                        Allele2_AB TEXT,\n",
    "                                        Chr TEXT,\n",
    "                                        Position TEXT,\n",
    "                                        GC_Score NUMERIC,\n",
    "                                        GT_Score NUMERIC,\n",
    "                                        Theta NUMERIC,\n",
    "                                        R NUMERIC,\n",
    "                                        B_Allele_Freq NUMERIC,\n",
    "                                        Log_R_Ration NUMERIC,\n",
    "                                        FOREIGN KEY (dna_chip_id) REFERENCES metadata(dna_chip_id))\n",
    "                     '''\n",
    "connection.execute(create_metadata)\n",
    "connection.execute(create_genstudio)"
   ]
  },
  {
   "cell_type": "markdown",
   "metadata": {},
   "source": [
    "### Fill tables with values"
   ]
  },
  {
   "cell_type": "code",
   "execution_count": 7,
   "metadata": {
    "ExecuteTime": {
     "end_time": "2022-03-17T21:38:04.502589Z",
     "start_time": "2022-03-17T21:37:58.241842Z"
    }
   },
   "outputs": [],
   "source": [
    "insertion_metadata = '''INSERT INTO metadata(Id,\n",
    "                                              dna_chip_id,\n",
    "                                              breed,\n",
    "                                              sex)\n",
    "                                        VALUES(?,?,?,?)'''\n",
    "\n",
    "insertion_genstudio = '''INSERT INTO genstudio(Id,\n",
    "                                                SNP_name,\n",
    "                                                SNP_index,\n",
    "                                                SNP_Aux,\n",
    "                                                dna_chip_id,\n",
    "                                                SNP,\n",
    "                                                Allele1_Top,\n",
    "                                                Allele2_Top,\n",
    "                                                Allele1_Forward, \n",
    "                                                Allele2_Forward,\n",
    "                                                Allele1_AB,\n",
    "                                                Allele2_AB,\n",
    "                                                Chr,\n",
    "                                                Position,\n",
    "                                                GC_Score,\n",
    "                                                GT_Score,\n",
    "                                                Theta,\n",
    "                                                R,\n",
    "                                                B_Allele_Freq,\n",
    "                                                Log_R_Ration)\n",
    "                                        VALUES(?,?,?,?,?,?,?,?,?,?,?,?,?,?,?,?,?,?,?,?)'''\n",
    "\n",
    "\n",
    "connection.executemany(insertion_metadata, df_metadata.values)\n",
    "connection.executemany(insertion_genstudio, df_genstudio.values)\n",
    "connection.commit()\n",
    "connection.close()"
   ]
  },
  {
   "cell_type": "markdown",
   "metadata": {},
   "source": [
    "### Test some commands"
   ]
  },
  {
   "cell_type": "code",
   "execution_count": 10,
   "metadata": {
    "ExecuteTime": {
     "end_time": "2022-03-17T21:39:09.063249Z",
     "start_time": "2022-03-17T21:39:09.060063Z"
    }
   },
   "outputs": [],
   "source": [
    "connection = sqlite3.connect('../data/my_database.db')"
   ]
  },
  {
   "cell_type": "code",
   "execution_count": 11,
   "metadata": {
    "ExecuteTime": {
     "end_time": "2022-03-17T21:39:09.789925Z",
     "start_time": "2022-03-17T21:39:09.774523Z"
    }
   },
   "outputs": [
    {
     "name": "stdout",
     "output_type": "stream",
     "text": [
      "(1, '202341831114R01C01', '1_10673082', '[T/C]')\n",
      "(2, '202341831114R01C01', '1_10723065', '[A/G]')\n",
      "(4, '202341831114R01C01', '1_11407894', '[A/G]')\n",
      "(5, '202341831114R01C01', '1_11426075', '[T/C]')\n",
      "(8, '202341831114R01C01', '1_13996200', '[T/C]')\n",
      "(9, '202341831114R01C01', '1_142535524', '[A/G]')\n",
      "(10, '202341831114R01C01', '1_14638936', '[T/C]')\n",
      "(11, '202341831114R01C01', '1_161891709', '[A/G]')\n",
      "(12, '202341831114R01C01', '1_17346505', '[A/G]')\n",
      "(13, '202341831114R01C01', '1_17537210', '[T/C]')\n",
      "(15, '202341831114R01C01', '1_242598', '[A/G]')\n",
      "(16, '202341831114R01C01', '1_2463520', '[A/G]')\n",
      "(18, '202341831114R01C01', '1_286337402', '[A/G]')\n",
      "(19, '202341831114R01C01', '1_294072400', '[T/C]')\n",
      "(22, '202341831114R01C01', '1_303127440', '[A/G]')\n"
     ]
    }
   ],
   "source": [
    "query = '''SELECT Id, dna_chip_id, SNP_name, SNP FROM genstudio\n",
    "            WHERE genstudio.GC_score > 0.5'''\n",
    "rows = connection.execute(query).fetchmany(15)\n",
    "for row in rows:\n",
    "    print(row)"
   ]
  },
  {
   "cell_type": "code",
   "execution_count": 12,
   "metadata": {
    "ExecuteTime": {
     "end_time": "2022-03-17T21:39:55.848388Z",
     "start_time": "2022-03-17T21:39:53.943812Z"
    }
   },
   "outputs": [
    {
     "name": "stdout",
     "output_type": "stream",
     "text": [
      "(1, '202341831114R02C01', 'Д', 'Хр', '10_11524303', '[A/G]', '10')\n",
      "(1, '202341831114R02C01', 'Д', 'Хр', '10_15026457', '[T/C]', '10')\n",
      "(1, '202341831114R02C01', 'Д', 'Хр', '10_15270724', '[A/G]', '10')\n",
      "(1, '202341831114R02C01', 'Д', 'Хр', '10_17565103', '[A/G]', '10')\n",
      "(1, '202341831114R02C01', 'Д', 'Хр', '10_17770477', '[A/G]', '10')\n",
      "(1, '202341831114R02C01', 'Д', 'Хр', '10_18682426', '[T/C]', '10')\n",
      "(1, '202341831114R02C01', 'Д', 'Хр', '10_19324750', '[T/G]', '10')\n",
      "(1, '202341831114R02C01', 'Д', 'Хр', '10_20043953', '[T/C]', '10')\n",
      "(1, '202341831114R02C01', 'Д', 'Хр', '10_20166080', '[A/C]', '10')\n",
      "(1, '202341831114R02C01', 'Д', 'Хр', '10_2598359', '[A/G]', '10')\n",
      "(1, '202341831114R02C01', 'Д', 'Хр', '10_27014378', '[T/C]', '10')\n",
      "(1, '202341831114R02C01', 'Д', 'Хр', '10_27620869', '[A/G]', '10')\n",
      "(1, '202341831114R02C01', 'Д', 'Хр', '10_28797811', '[T/C]', '10')\n",
      "(1, '202341831114R02C01', 'Д', 'Хр', '10_28894311', '[T/C]', '10')\n",
      "(1, '202341831114R02C01', 'Д', 'Хр', '10_29099121', '[T/C]', '10')\n",
      "(1, '202341831114R02C01', 'Д', 'Хр', '10_29176531', '[T/C]', '10')\n",
      "(1, '202341831114R02C01', 'Д', 'Хр', '10_29353382', '[A/G]', '10')\n",
      "(1, '202341831114R02C01', 'Д', 'Хр', '10_34720438', '[A/C]', '10')\n",
      "(1, '202341831114R02C01', 'Д', 'Хр', '10_35026092', '[T/C]', '10')\n",
      "(1, '202341831114R02C01', 'Д', 'Хр', '10_35986760', '[T/C]', '10')\n"
     ]
    }
   ],
   "source": [
    "query = '''SELECT metadata.Id, metadata.dna_chip_id, \n",
    "                  metadata.breed, metadata.sex, \n",
    "                  genstudio.SNP_name, genstudio.SNP, \n",
    "                  genstudio.Chr\n",
    "          FROM metadata, genstudio\n",
    "          WHERE metadata.dna_chip_id = genstudio.dna_chip_id    \n",
    "        '''\n",
    "\n",
    "rows = connection.execute(query).fetchmany(20)\n",
    "for row in rows:\n",
    "    print(row)"
   ]
  }
 ],
 "metadata": {
  "kernelspec": {
   "display_name": "Python 3 (ipykernel)",
   "language": "python",
   "name": "python3"
  },
  "language_info": {
   "codemirror_mode": {
    "name": "ipython",
    "version": 3
   },
   "file_extension": ".py",
   "mimetype": "text/x-python",
   "name": "python",
   "nbconvert_exporter": "python",
   "pygments_lexer": "ipython3",
   "version": "3.7.6"
  },
  "varInspector": {
   "cols": {
    "lenName": 16,
    "lenType": 16,
    "lenVar": 40
   },
   "kernels_config": {
    "python": {
     "delete_cmd_postfix": "",
     "delete_cmd_prefix": "del ",
     "library": "var_list.py",
     "varRefreshCmd": "print(var_dic_list())"
    },
    "r": {
     "delete_cmd_postfix": ") ",
     "delete_cmd_prefix": "rm(",
     "library": "var_list.r",
     "varRefreshCmd": "cat(var_dic_list()) "
    }
   },
   "types_to_exclude": [
    "module",
    "function",
    "builtin_function_or_method",
    "instance",
    "_Feature"
   ],
   "window_display": false
  }
 },
 "nbformat": 4,
 "nbformat_minor": 4
}
